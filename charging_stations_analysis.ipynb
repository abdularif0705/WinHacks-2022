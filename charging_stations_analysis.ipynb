{
  "nbformat": 4,
  "nbformat_minor": 0,
  "metadata": {
    "colab": {
      "name": "charging stations analysis.ipynb",
      "provenance": [],
      "collapsed_sections": [],
      "authorship_tag": "ABX9TyPOe3mr6POrWUxj1tbGh0oV",
      "include_colab_link": true
    },
    "kernelspec": {
      "name": "python3",
      "display_name": "Python 3"
    },
    "language_info": {
      "name": "python"
    }
  },
  "cells": [
    {
      "cell_type": "markdown",
      "metadata": {
        "id": "view-in-github",
        "colab_type": "text"
      },
      "source": [
        "<a href=\"https://colab.research.google.com/github/abdularif0705/WinHacks-2022/blob/main/charging_stations_analysis.ipynb\" target=\"_parent\"><img src=\"https://colab.research.google.com/assets/colab-badge.svg\" alt=\"Open In Colab\"/></a>"
      ]
    },
    {
      "cell_type": "code",
      "source": [
        "#!pip install geopandas"
      ],
      "metadata": {
        "id": "oHQTgeLzm1sj"
      },
      "execution_count": 1,
      "outputs": []
    },
    {
      "cell_type": "code",
      "execution_count": 2,
      "metadata": {
        "id": "Cr872axtmX3C"
      },
      "outputs": [],
      "source": [
        "import pandas as pd\n",
        "import numpy as np\n",
        "import matplotlib.pyplot as plt\n",
        "import seaborn as sns\n",
        "import geopandas as gpd"
      ]
    },
    {
      "cell_type": "code",
      "source": [
        "roads = gpd.read_file(\"/content/roads.shp\")\n",
        "natural = gpd.read_file(\"/content/natural.shp\")\n",
        "landuse = gpd.read_file(\"/content/landuse.shp\")\n",
        "buildings = gpd.read_file(\"/content/buildings.shp\")\n",
        "points = gpd.read_file(\"/content/points.shp\")\n",
        "places = gpd.read_file(\"/content/places.shp\")\n",
        "water = gpd.read_file(\"/content/waterways.shp\")\n",
        "railways = gpd.read_file(\"/content/railways.shp\")"
      ],
      "metadata": {
        "id": "9NrquOpnsYeb"
      },
      "execution_count": 3,
      "outputs": []
    },
    {
      "cell_type": "markdown",
      "source": [
        "## Windsor Geospatial Map"
      ],
      "metadata": {
        "id": "S7XJyQvcUAUz"
      }
    },
    {
      "cell_type": "code",
      "source": [
        "'''\n",
        "#dataset = ['places','roads','natural','buildings','landuse','water','railways','points']\n",
        "fig, ax = plt.subplots(figsize = (10, 10))\n",
        "natural.plot(ax = ax,edgecolor = 'green')\n",
        "roads.plot(ax = ax,edgecolor = 'grey')\n",
        "water.plot(ax = ax,edgecolor = 'lightblue')\n",
        "points.plot(ax = ax,edgecolor = 'black')\n",
        "landuse.plot(ax = ax,edgecolor = 'green')\n",
        "railways.plot(ax = ax,edgecolor = 'orange')\n",
        "buildings.plot(ax = ax,edgecolor = 'yellow')\n",
        "places.plot(ax = ax,edgecolor = 'red')\n",
        "ax.set_axis_off()\n",
        "plt.legend()\n",
        "plt.show()\n",
        "'''"
      ],
      "metadata": {
        "colab": {
          "base_uri": "https://localhost:8080/",
          "height": 88
        },
        "id": "0xOFvwwkxWHM",
        "outputId": "26ecf3ba-6848-4b67-b0ba-284653e65951"
      },
      "execution_count": 4,
      "outputs": [
        {
          "output_type": "execute_result",
          "data": {
            "text/plain": [
              "\"\\n#dataset = ['places','roads','natural','buildings','landuse','water','railways','points']\\nfig, ax = plt.subplots(figsize = (10, 10))\\nnatural.plot(ax = ax,edgecolor = 'green')\\nroads.plot(ax = ax,edgecolor = 'grey')\\nwater.plot(ax = ax,edgecolor = 'lightblue')\\npoints.plot(ax = ax,edgecolor = 'black')\\nlanduse.plot(ax = ax,edgecolor = 'green')\\nrailways.plot(ax = ax,edgecolor = 'orange')\\nbuildings.plot(ax = ax,edgecolor = 'yellow')\\nplaces.plot(ax = ax,edgecolor = 'red')\\nax.set_axis_off()\\nplt.legend()\\nplt.show()\\n\""
            ],
            "application/vnd.google.colaboratory.intrinsic+json": {
              "type": "string"
            }
          },
          "metadata": {},
          "execution_count": 4
        }
      ]
    },
    {
      "cell_type": "markdown",
      "source": [
        "## Individual Map File Analysis"
      ],
      "metadata": {
        "id": "dg17ZYBlUKf1"
      }
    },
    {
      "cell_type": "markdown",
      "source": [
        "### Points"
      ],
      "metadata": {
        "id": "JblSqDhcURUZ"
      }
    },
    {
      "cell_type": "code",
      "source": [
        "points.sample(5)"
      ],
      "metadata": {
        "colab": {
          "base_uri": "https://localhost:8080/",
          "height": 206
        },
        "id": "35U0GZ9iWB8C",
        "outputId": "9c007c61-3054-4847-99c4-79e5721d3d04"
      },
      "execution_count": 5,
      "outputs": [
        {
          "output_type": "execute_result",
          "data": {
            "text/plain": [
              "          osm_id timestamp                                 name  \\\n",
              "1520  1798730529      None                                 None   \n",
              "2303 -2134559343      None  Kingdom Hall of Jehovah's Witnesses   \n",
              "3463  1830027991      None                               Subway   \n",
              "3423  1731086140      None                                 None   \n",
              "3684  1875799726      None                                 None   \n",
              "\n",
              "                  type                    geometry  \n",
              "1520    level_crossing  POINT (-82.84711 42.30845)  \n",
              "2303  place_of_worship  POINT (-83.10958 42.08827)  \n",
              "3463         fast_food  POINT (-82.87176 42.27945)  \n",
              "3423              stop  POINT (-82.73075 42.17461)  \n",
              "3684          crossing  POINT (-82.91548 42.03550)  "
            ],
            "text/html": [
              "\n",
              "  <div id=\"df-6152a909-8483-4d07-859f-d46d328ccd57\">\n",
              "    <div class=\"colab-df-container\">\n",
              "      <div>\n",
              "<style scoped>\n",
              "    .dataframe tbody tr th:only-of-type {\n",
              "        vertical-align: middle;\n",
              "    }\n",
              "\n",
              "    .dataframe tbody tr th {\n",
              "        vertical-align: top;\n",
              "    }\n",
              "\n",
              "    .dataframe thead th {\n",
              "        text-align: right;\n",
              "    }\n",
              "</style>\n",
              "<table border=\"1\" class=\"dataframe\">\n",
              "  <thead>\n",
              "    <tr style=\"text-align: right;\">\n",
              "      <th></th>\n",
              "      <th>osm_id</th>\n",
              "      <th>timestamp</th>\n",
              "      <th>name</th>\n",
              "      <th>type</th>\n",
              "      <th>geometry</th>\n",
              "    </tr>\n",
              "  </thead>\n",
              "  <tbody>\n",
              "    <tr>\n",
              "      <th>1520</th>\n",
              "      <td>1798730529</td>\n",
              "      <td>None</td>\n",
              "      <td>None</td>\n",
              "      <td>level_crossing</td>\n",
              "      <td>POINT (-82.84711 42.30845)</td>\n",
              "    </tr>\n",
              "    <tr>\n",
              "      <th>2303</th>\n",
              "      <td>-2134559343</td>\n",
              "      <td>None</td>\n",
              "      <td>Kingdom Hall of Jehovah's Witnesses</td>\n",
              "      <td>place_of_worship</td>\n",
              "      <td>POINT (-83.10958 42.08827)</td>\n",
              "    </tr>\n",
              "    <tr>\n",
              "      <th>3463</th>\n",
              "      <td>1830027991</td>\n",
              "      <td>None</td>\n",
              "      <td>Subway</td>\n",
              "      <td>fast_food</td>\n",
              "      <td>POINT (-82.87176 42.27945)</td>\n",
              "    </tr>\n",
              "    <tr>\n",
              "      <th>3423</th>\n",
              "      <td>1731086140</td>\n",
              "      <td>None</td>\n",
              "      <td>None</td>\n",
              "      <td>stop</td>\n",
              "      <td>POINT (-82.73075 42.17461)</td>\n",
              "    </tr>\n",
              "    <tr>\n",
              "      <th>3684</th>\n",
              "      <td>1875799726</td>\n",
              "      <td>None</td>\n",
              "      <td>None</td>\n",
              "      <td>crossing</td>\n",
              "      <td>POINT (-82.91548 42.03550)</td>\n",
              "    </tr>\n",
              "  </tbody>\n",
              "</table>\n",
              "</div>\n",
              "      <button class=\"colab-df-convert\" onclick=\"convertToInteractive('df-6152a909-8483-4d07-859f-d46d328ccd57')\"\n",
              "              title=\"Convert this dataframe to an interactive table.\"\n",
              "              style=\"display:none;\">\n",
              "        \n",
              "  <svg xmlns=\"http://www.w3.org/2000/svg\" height=\"24px\"viewBox=\"0 0 24 24\"\n",
              "       width=\"24px\">\n",
              "    <path d=\"M0 0h24v24H0V0z\" fill=\"none\"/>\n",
              "    <path d=\"M18.56 5.44l.94 2.06.94-2.06 2.06-.94-2.06-.94-.94-2.06-.94 2.06-2.06.94zm-11 1L8.5 8.5l.94-2.06 2.06-.94-2.06-.94L8.5 2.5l-.94 2.06-2.06.94zm10 10l.94 2.06.94-2.06 2.06-.94-2.06-.94-.94-2.06-.94 2.06-2.06.94z\"/><path d=\"M17.41 7.96l-1.37-1.37c-.4-.4-.92-.59-1.43-.59-.52 0-1.04.2-1.43.59L10.3 9.45l-7.72 7.72c-.78.78-.78 2.05 0 2.83L4 21.41c.39.39.9.59 1.41.59.51 0 1.02-.2 1.41-.59l7.78-7.78 2.81-2.81c.8-.78.8-2.07 0-2.86zM5.41 20L4 18.59l7.72-7.72 1.47 1.35L5.41 20z\"/>\n",
              "  </svg>\n",
              "      </button>\n",
              "      \n",
              "  <style>\n",
              "    .colab-df-container {\n",
              "      display:flex;\n",
              "      flex-wrap:wrap;\n",
              "      gap: 12px;\n",
              "    }\n",
              "\n",
              "    .colab-df-convert {\n",
              "      background-color: #E8F0FE;\n",
              "      border: none;\n",
              "      border-radius: 50%;\n",
              "      cursor: pointer;\n",
              "      display: none;\n",
              "      fill: #1967D2;\n",
              "      height: 32px;\n",
              "      padding: 0 0 0 0;\n",
              "      width: 32px;\n",
              "    }\n",
              "\n",
              "    .colab-df-convert:hover {\n",
              "      background-color: #E2EBFA;\n",
              "      box-shadow: 0px 1px 2px rgba(60, 64, 67, 0.3), 0px 1px 3px 1px rgba(60, 64, 67, 0.15);\n",
              "      fill: #174EA6;\n",
              "    }\n",
              "\n",
              "    [theme=dark] .colab-df-convert {\n",
              "      background-color: #3B4455;\n",
              "      fill: #D2E3FC;\n",
              "    }\n",
              "\n",
              "    [theme=dark] .colab-df-convert:hover {\n",
              "      background-color: #434B5C;\n",
              "      box-shadow: 0px 1px 3px 1px rgba(0, 0, 0, 0.15);\n",
              "      filter: drop-shadow(0px 1px 2px rgba(0, 0, 0, 0.3));\n",
              "      fill: #FFFFFF;\n",
              "    }\n",
              "  </style>\n",
              "\n",
              "      <script>\n",
              "        const buttonEl =\n",
              "          document.querySelector('#df-6152a909-8483-4d07-859f-d46d328ccd57 button.colab-df-convert');\n",
              "        buttonEl.style.display =\n",
              "          google.colab.kernel.accessAllowed ? 'block' : 'none';\n",
              "\n",
              "        async function convertToInteractive(key) {\n",
              "          const element = document.querySelector('#df-6152a909-8483-4d07-859f-d46d328ccd57');\n",
              "          const dataTable =\n",
              "            await google.colab.kernel.invokeFunction('convertToInteractive',\n",
              "                                                     [key], {});\n",
              "          if (!dataTable) return;\n",
              "\n",
              "          const docLinkHtml = 'Like what you see? Visit the ' +\n",
              "            '<a target=\"_blank\" href=https://colab.research.google.com/notebooks/data_table.ipynb>data table notebook</a>'\n",
              "            + ' to learn more about interactive tables.';\n",
              "          element.innerHTML = '';\n",
              "          dataTable['output_type'] = 'display_data';\n",
              "          await google.colab.output.renderOutput(dataTable, element);\n",
              "          const docLink = document.createElement('div');\n",
              "          docLink.innerHTML = docLinkHtml;\n",
              "          element.appendChild(docLink);\n",
              "        }\n",
              "      </script>\n",
              "    </div>\n",
              "  </div>\n",
              "  "
            ]
          },
          "metadata": {},
          "execution_count": 5
        }
      ]
    },
    {
      "cell_type": "code",
      "source": [
        "points.shape"
      ],
      "metadata": {
        "colab": {
          "base_uri": "https://localhost:8080/"
        },
        "id": "raOAWjM8WFFZ",
        "outputId": "48979a65-eadc-496b-f338-ca10e888e776"
      },
      "execution_count": 6,
      "outputs": [
        {
          "output_type": "execute_result",
          "data": {
            "text/plain": [
              "(5907, 5)"
            ]
          },
          "metadata": {},
          "execution_count": 6
        }
      ]
    },
    {
      "cell_type": "code",
      "source": [
        "points['type'].value_counts()"
      ],
      "metadata": {
        "colab": {
          "base_uri": "https://localhost:8080/"
        },
        "id": "nT9HEsz4DuPY",
        "outputId": "dc83f899-06f7-40e0-8863-4e1f4b613a72"
      },
      "execution_count": 7,
      "outputs": [
        {
          "output_type": "execute_result",
          "data": {
            "text/plain": [
              "crossing            1387\n",
              "storage_tank         658\n",
              "turning_circle       657\n",
              "traffic_signals      424\n",
              "street_lamp          377\n",
              "                    ... \n",
              "charging_station       1\n",
              "windmill               1\n",
              "clock                  1\n",
              "arts_centre            1\n",
              "vending_machine        1\n",
              "Name: type, Length: 111, dtype: int64"
            ]
          },
          "metadata": {},
          "execution_count": 7
        }
      ]
    },
    {
      "cell_type": "code",
      "source": [
        "plt.figure(figsize =(15, 7))\n",
        "plt.hist(points['type'],color = \"maroon\", ec=\"black\")\n",
        "plt.xticks([],[])\n",
        "plt.show()"
      ],
      "metadata": {
        "colab": {
          "base_uri": "https://localhost:8080/",
          "height": 417
        },
        "id": "S6fl7DzX--vv",
        "outputId": "793f1240-8201-474c-bbc0-ae59bdd3586a"
      },
      "execution_count": 8,
      "outputs": [
        {
          "output_type": "display_data",
          "data": {
            "text/plain": [
              "<Figure size 1080x504 with 1 Axes>"
            ],
            "image/png": "[encoded data removed]"
          },
          "metadata": {
            "needs_background": "light"
          }
        }
      ]
    },
    {
      "cell_type": "code",
      "source": [
        "data = ['traffic_signals', 'turning_circle', 'crossing', 'level_crossing', 'turning_loop',\n",
        "       'railway_crossing', 'stop', 'switch', 'gallery','parking', 'information',\n",
        "       'place_of_worship', 'buffer_stop','lighthouse',\n",
        "       'mini_roundabout', 'yes', 'passing_place',\n",
        "       'fire_station', 'townhall', 'museum', 'post_box', 'ferry_terminal',\n",
        "       'pharmacy', 'restaurant', 'flagpole', 'cafe', 'tower', 'fast_food', 'toilets', 'vending_machine', 'shelter',\n",
        "       'grave_yard', 'storage_tank', 'water_tower',\n",
        "       'post_office', 'picnic_site', 'petroleum_well', 'chimney',\n",
        "       'attraction', 'community_centre', 'coast_guard', 'street_lamp',\n",
        "       'drinking_water', 'bar', 'doctors', 'theatre',\n",
        "       'bank', 'artwork', 'mast', 'clinic', 'telephone', 'waste_basket',\n",
        "       'marketplace', 'bench', 'ice_cream', 'events_venue', 'veterinary',\n",
        "       'nightclub', 'social_facility','monument', 'memorial', 'fountain', 'library', 'locomotive',\n",
        "       'surveillance', 'street_cabinet', 'vacuum_cleaner', \n",
        "       'dentist', 'windmill','wastewater_plant', 'parking_entrance',\n",
        "       'arts_centre', 'clock', 'pub', 'junction', 'give_way', 'vacant',\n",
        "       'pumping_rig', 'boundary_stone', 'bureau_de_change', 'food_court',\n",
        "       'dojo', 'prep_school', 'raceway', 'silo', 'kindergarten',\n",
        "       'music_school', 'tank', 'disused:bar', 'manhole', 'atm',\n",
        "       'social_centre', 'recycling', 'works']\n",
        "\n",
        "\n",
        "# Dropping locations from data where installing Charging station is not feasible\n",
        "\n",
        "for location in data:\n",
        "  points.drop(points.loc[points['type'] == location ].index, inplace=True)"
      ],
      "metadata": {
        "id": "UI0Fqvvpyzeu"
      },
      "execution_count": 9,
      "outputs": []
    },
    {
      "cell_type": "code",
      "source": [
        "#Dropping useless columns\n",
        "points =  points.drop(['timestamp','name'],axis=1)"
      ],
      "metadata": {
        "id": "ydNgBDY0VGml"
      },
      "execution_count": 10,
      "outputs": []
    },
    {
      "cell_type": "code",
      "source": [
        "points.head()"
      ],
      "metadata": {
        "colab": {
          "base_uri": "https://localhost:8080/",
          "height": 206
        },
        "id": "_N6VBu8hX0rf",
        "outputId": "dfd4c2da-0fdc-47d1-bc2a-7779cfb847ac"
      },
      "execution_count": 11,
      "outputs": [
        {
          "output_type": "execute_result",
          "data": {
            "text/plain": [
              "      osm_id              type                    geometry\n",
              "3   18354426  motorway_junctio  POINT (-82.55877 42.24257)\n",
              "7   31920568  motorway_junctio  POINT (-82.95765 42.24757)\n",
              "14  62579556  motorway_junctio  POINT (-83.11480 42.30335)\n",
              "17  62596048  motorway_junctio  POINT (-83.09826 42.31087)\n",
              "83  62690186         milestone  POINT (-83.14879 42.24251)"
            ],
            "text/html": [
              "\n",
              "  <div id=\"df-cf4289e4-a10e-4c04-97d7-b86f6f91c5c3\">\n",
              "    <div class=\"colab-df-container\">\n",
              "      <div>\n",
              "<style scoped>\n",
              "    .dataframe tbody tr th:only-of-type {\n",
              "        vertical-align: middle;\n",
              "    }\n",
              "\n",
              "    .dataframe tbody tr th {\n",
              "        vertical-align: top;\n",
              "    }\n",
              "\n",
              "    .dataframe thead th {\n",
              "        text-align: right;\n",
              "    }\n",
              "</style>\n",
              "<table border=\"1\" class=\"dataframe\">\n",
              "  <thead>\n",
              "    <tr style=\"text-align: right;\">\n",
              "      <th></th>\n",
              "      <th>osm_id</th>\n",
              "      <th>type</th>\n",
              "      <th>geometry</th>\n",
              "    </tr>\n",
              "  </thead>\n",
              "  <tbody>\n",
              "    <tr>\n",
              "      <th>3</th>\n",
              "      <td>18354426</td>\n",
              "      <td>motorway_junctio</td>\n",
              "      <td>POINT (-82.55877 42.24257)</td>\n",
              "    </tr>\n",
              "    <tr>\n",
              "      <th>7</th>\n",
              "      <td>31920568</td>\n",
              "      <td>motorway_junctio</td>\n",
              "      <td>POINT (-82.95765 42.24757)</td>\n",
              "    </tr>\n",
              "    <tr>\n",
              "      <th>14</th>\n",
              "      <td>62579556</td>\n",
              "      <td>motorway_junctio</td>\n",
              "      <td>POINT (-83.11480 42.30335)</td>\n",
              "    </tr>\n",
              "    <tr>\n",
              "      <th>17</th>\n",
              "      <td>62596048</td>\n",
              "      <td>motorway_junctio</td>\n",
              "      <td>POINT (-83.09826 42.31087)</td>\n",
              "    </tr>\n",
              "    <tr>\n",
              "      <th>83</th>\n",
              "      <td>62690186</td>\n",
              "      <td>milestone</td>\n",
              "      <td>POINT (-83.14879 42.24251)</td>\n",
              "    </tr>\n",
              "  </tbody>\n",
              "</table>\n",
              "</div>\n",
              "      <button class=\"colab-df-convert\" onclick=\"convertToInteractive('df-cf4289e4-a10e-4c04-97d7-b86f6f91c5c3')\"\n",
              "              title=\"Convert this dataframe to an interactive table.\"\n",
              "              style=\"display:none;\">\n",
              "        \n",
              "  <svg xmlns=\"http://www.w3.org/2000/svg\" height=\"24px\"viewBox=\"0 0 24 24\"\n",
              "       width=\"24px\">\n",
              "    <path d=\"M0 0h24v24H0V0z\" fill=\"none\"/>\n",
              "    <path d=\"M18.56 5.44l.94 2.06.94-2.06 2.06-.94-2.06-.94-.94-2.06-.94 2.06-2.06.94zm-11 1L8.5 8.5l.94-2.06 2.06-.94-2.06-.94L8.5 2.5l-.94 2.06-2.06.94zm10 10l.94 2.06.94-2.06 2.06-.94-2.06-.94-.94-2.06-.94 2.06-2.06.94z\"/><path d=\"M17.41 7.96l-1.37-1.37c-.4-.4-.92-.59-1.43-.59-.52 0-1.04.2-1.43.59L10.3 9.45l-7.72 7.72c-.78.78-.78 2.05 0 2.83L4 21.41c.39.39.9.59 1.41.59.51 0 1.02-.2 1.41-.59l7.78-7.78 2.81-2.81c.8-.78.8-2.07 0-2.86zM5.41 20L4 18.59l7.72-7.72 1.47 1.35L5.41 20z\"/>\n",
              "  </svg>\n",
              "      </button>\n",
              "      \n",
              "  <style>\n",
              "    .colab-df-container {\n",
              "      display:flex;\n",
              "      flex-wrap:wrap;\n",
              "      gap: 12px;\n",
              "    }\n",
              "\n",
              "    .colab-df-convert {\n",
              "      background-color: #E8F0FE;\n",
              "      border: none;\n",
              "      border-radius: 50%;\n",
              "      cursor: pointer;\n",
              "      display: none;\n",
              "      fill: #1967D2;\n",
              "      height: 32px;\n",
              "      padding: 0 0 0 0;\n",
              "      width: 32px;\n",
              "    }\n",
              "\n",
              "    .colab-df-convert:hover {\n",
              "      background-color: #E2EBFA;\n",
              "      box-shadow: 0px 1px 2px rgba(60, 64, 67, 0.3), 0px 1px 3px 1px rgba(60, 64, 67, 0.15);\n",
              "      fill: #174EA6;\n",
              "    }\n",
              "\n",
              "    [theme=dark] .colab-df-convert {\n",
              "      background-color: #3B4455;\n",
              "      fill: #D2E3FC;\n",
              "    }\n",
              "\n",
              "    [theme=dark] .colab-df-convert:hover {\n",
              "      background-color: #434B5C;\n",
              "      box-shadow: 0px 1px 3px 1px rgba(0, 0, 0, 0.15);\n",
              "      filter: drop-shadow(0px 1px 2px rgba(0, 0, 0, 0.3));\n",
              "      fill: #FFFFFF;\n",
              "    }\n",
              "  </style>\n",
              "\n",
              "      <script>\n",
              "        const buttonEl =\n",
              "          document.querySelector('#df-cf4289e4-a10e-4c04-97d7-b86f6f91c5c3 button.colab-df-convert');\n",
              "        buttonEl.style.display =\n",
              "          google.colab.kernel.accessAllowed ? 'block' : 'none';\n",
              "\n",
              "        async function convertToInteractive(key) {\n",
              "          const element = document.querySelector('#df-cf4289e4-a10e-4c04-97d7-b86f6f91c5c3');\n",
              "          const dataTable =\n",
              "            await google.colab.kernel.invokeFunction('convertToInteractive',\n",
              "                                                     [key], {});\n",
              "          if (!dataTable) return;\n",
              "\n",
              "          const docLinkHtml = 'Like what you see? Visit the ' +\n",
              "            '<a target=\"_blank\" href=https://colab.research.google.com/notebooks/data_table.ipynb>data table notebook</a>'\n",
              "            + ' to learn more about interactive tables.';\n",
              "          element.innerHTML = '';\n",
              "          dataTable['output_type'] = 'display_data';\n",
              "          await google.colab.output.renderOutput(dataTable, element);\n",
              "          const docLink = document.createElement('div');\n",
              "          docLink.innerHTML = docLinkHtml;\n",
              "          element.appendChild(docLink);\n",
              "        }\n",
              "      </script>\n",
              "    </div>\n",
              "  </div>\n",
              "  "
            ]
          },
          "metadata": {},
          "execution_count": 11
        }
      ]
    },
    {
      "cell_type": "markdown",
      "source": [
        "### Buildings"
      ],
      "metadata": {
        "id": "uqokTXNoVHDA"
      }
    },
    {
      "cell_type": "code",
      "source": [
        "buildings.sample(5)"
      ],
      "metadata": {
        "colab": {
          "base_uri": "https://localhost:8080/",
          "height": 206
        },
        "id": "gRf0xv3dWN07",
        "outputId": "a0e68395-4366-45c4-c57a-e2653c479f9d"
      },
      "execution_count": 12,
      "outputs": [
        {
          "output_type": "execute_result",
          "data": {
            "text/plain": [
              "           osm_id  name        type  \\\n",
              "35859   783461812  None        None   \n",
              "23715   782199027  None        None   \n",
              "27278   782852708  None        None   \n",
              "86829  1003286420  None  commercial   \n",
              "41782   783471728  None        None   \n",
              "\n",
              "                                                geometry  \n",
              "35859  POLYGON ((-82.97681 42.25196, -82.97677 42.251...  \n",
              "23715  POLYGON ((-82.91201 42.30698, -82.91217 42.306...  \n",
              "27278  POLYGON ((-82.94310 42.29226, -82.94317 42.292...  \n",
              "86829  POLYGON ((-82.60038 42.03844, -82.60058 42.038...  \n",
              "41782  POLYGON ((-82.97496 42.31962, -82.97506 42.319...  "
            ],
            "text/html": [
              "\n",
              "  <div id=\"df-e6550d12-fe4f-4c43-9637-641481961368\">\n",
              "    <div class=\"colab-df-container\">\n",
              "      <div>\n",
              "<style scoped>\n",
              "    .dataframe tbody tr th:only-of-type {\n",
              "        vertical-align: middle;\n",
              "    }\n",
              "\n",
              "    .dataframe tbody tr th {\n",
              "        vertical-align: top;\n",
              "    }\n",
              "\n",
              "    .dataframe thead th {\n",
              "        text-align: right;\n",
              "    }\n",
              "</style>\n",
              "<table border=\"1\" class=\"dataframe\">\n",
              "  <thead>\n",
              "    <tr style=\"text-align: right;\">\n",
              "      <th></th>\n",
              "      <th>osm_id</th>\n",
              "      <th>name</th>\n",
              "      <th>type</th>\n",
              "      <th>geometry</th>\n",
              "    </tr>\n",
              "  </thead>\n",
              "  <tbody>\n",
              "    <tr>\n",
              "      <th>35859</th>\n",
              "      <td>783461812</td>\n",
              "      <td>None</td>\n",
              "      <td>None</td>\n",
              "      <td>POLYGON ((-82.97681 42.25196, -82.97677 42.251...</td>\n",
              "    </tr>\n",
              "    <tr>\n",
              "      <th>23715</th>\n",
              "      <td>782199027</td>\n",
              "      <td>None</td>\n",
              "      <td>None</td>\n",
              "      <td>POLYGON ((-82.91201 42.30698, -82.91217 42.306...</td>\n",
              "    </tr>\n",
              "    <tr>\n",
              "      <th>27278</th>\n",
              "      <td>782852708</td>\n",
              "      <td>None</td>\n",
              "      <td>None</td>\n",
              "      <td>POLYGON ((-82.94310 42.29226, -82.94317 42.292...</td>\n",
              "    </tr>\n",
              "    <tr>\n",
              "      <th>86829</th>\n",
              "      <td>1003286420</td>\n",
              "      <td>None</td>\n",
              "      <td>commercial</td>\n",
              "      <td>POLYGON ((-82.60038 42.03844, -82.60058 42.038...</td>\n",
              "    </tr>\n",
              "    <tr>\n",
              "      <th>41782</th>\n",
              "      <td>783471728</td>\n",
              "      <td>None</td>\n",
              "      <td>None</td>\n",
              "      <td>POLYGON ((-82.97496 42.31962, -82.97506 42.319...</td>\n",
              "    </tr>\n",
              "  </tbody>\n",
              "</table>\n",
              "</div>\n",
              "      <button class=\"colab-df-convert\" onclick=\"convertToInteractive('df-e6550d12-fe4f-4c43-9637-641481961368')\"\n",
              "              title=\"Convert this dataframe to an interactive table.\"\n",
              "              style=\"display:none;\">\n",
              "        \n",
              "  <svg xmlns=\"http://www.w3.org/2000/svg\" height=\"24px\"viewBox=\"0 0 24 24\"\n",
              "       width=\"24px\">\n",
              "    <path d=\"M0 0h24v24H0V0z\" fill=\"none\"/>\n",
              "    <path d=\"M18.56 5.44l.94 2.06.94-2.06 2.06-.94-2.06-.94-.94-2.06-.94 2.06-2.06.94zm-11 1L8.5 8.5l.94-2.06 2.06-.94-2.06-.94L8.5 2.5l-.94 2.06-2.06.94zm10 10l.94 2.06.94-2.06 2.06-.94-2.06-.94-.94-2.06-.94 2.06-2.06.94z\"/><path d=\"M17.41 7.96l-1.37-1.37c-.4-.4-.92-.59-1.43-.59-.52 0-1.04.2-1.43.59L10.3 9.45l-7.72 7.72c-.78.78-.78 2.05 0 2.83L4 21.41c.39.39.9.59 1.41.59.51 0 1.02-.2 1.41-.59l7.78-7.78 2.81-2.81c.8-.78.8-2.07 0-2.86zM5.41 20L4 18.59l7.72-7.72 1.47 1.35L5.41 20z\"/>\n",
              "  </svg>\n",
              "      </button>\n",
              "      \n",
              "  <style>\n",
              "    .colab-df-container {\n",
              "      display:flex;\n",
              "      flex-wrap:wrap;\n",
              "      gap: 12px;\n",
              "    }\n",
              "\n",
              "    .colab-df-convert {\n",
              "      background-color: #E8F0FE;\n",
              "      border: none;\n",
              "      border-radius: 50%;\n",
              "      cursor: pointer;\n",
              "      display: none;\n",
              "      fill: #1967D2;\n",
              "      height: 32px;\n",
              "      padding: 0 0 0 0;\n",
              "      width: 32px;\n",
              "    }\n",
              "\n",
              "    .colab-df-convert:hover {\n",
              "      background-color: #E2EBFA;\n",
              "      box-shadow: 0px 1px 2px rgba(60, 64, 67, 0.3), 0px 1px 3px 1px rgba(60, 64, 67, 0.15);\n",
              "      fill: #174EA6;\n",
              "    }\n",
              "\n",
              "    [theme=dark] .colab-df-convert {\n",
              "      background-color: #3B4455;\n",
              "      fill: #D2E3FC;\n",
              "    }\n",
              "\n",
              "    [theme=dark] .colab-df-convert:hover {\n",
              "      background-color: #434B5C;\n",
              "      box-shadow: 0px 1px 3px 1px rgba(0, 0, 0, 0.15);\n",
              "      filter: drop-shadow(0px 1px 2px rgba(0, 0, 0, 0.3));\n",
              "      fill: #FFFFFF;\n",
              "    }\n",
              "  </style>\n",
              "\n",
              "      <script>\n",
              "        const buttonEl =\n",
              "          document.querySelector('#df-e6550d12-fe4f-4c43-9637-641481961368 button.colab-df-convert');\n",
              "        buttonEl.style.display =\n",
              "          google.colab.kernel.accessAllowed ? 'block' : 'none';\n",
              "\n",
              "        async function convertToInteractive(key) {\n",
              "          const element = document.querySelector('#df-e6550d12-fe4f-4c43-9637-641481961368');\n",
              "          const dataTable =\n",
              "            await google.colab.kernel.invokeFunction('convertToInteractive',\n",
              "                                                     [key], {});\n",
              "          if (!dataTable) return;\n",
              "\n",
              "          const docLinkHtml = 'Like what you see? Visit the ' +\n",
              "            '<a target=\"_blank\" href=https://colab.research.google.com/notebooks/data_table.ipynb>data table notebook</a>'\n",
              "            + ' to learn more about interactive tables.';\n",
              "          element.innerHTML = '';\n",
              "          dataTable['output_type'] = 'display_data';\n",
              "          await google.colab.output.renderOutput(dataTable, element);\n",
              "          const docLink = document.createElement('div');\n",
              "          docLink.innerHTML = docLinkHtml;\n",
              "          element.appendChild(docLink);\n",
              "        }\n",
              "      </script>\n",
              "    </div>\n",
              "  </div>\n",
              "  "
            ]
          },
          "metadata": {},
          "execution_count": 12
        }
      ]
    },
    {
      "cell_type": "code",
      "source": [
        "buildings.shape"
      ],
      "metadata": {
        "colab": {
          "base_uri": "https://localhost:8080/"
        },
        "id": "31etdvV5WO2L",
        "outputId": "b1070059-ed8b-4468-d791-59577d2d2ae9"
      },
      "execution_count": 13,
      "outputs": [
        {
          "output_type": "execute_result",
          "data": {
            "text/plain": [
              "(87791, 4)"
            ]
          },
          "metadata": {},
          "execution_count": 13
        }
      ]
    },
    {
      "cell_type": "code",
      "source": [
        "buildings['type'].value_counts()"
      ],
      "metadata": {
        "colab": {
          "base_uri": "https://localhost:8080/"
        },
        "id": "btbfSIF5yuQP",
        "outputId": "940ebee4-8db8-44aa-dab8-1034ada80792"
      },
      "execution_count": 14,
      "outputs": [
        {
          "output_type": "execute_result",
          "data": {
            "text/plain": [
              "house              17180\n",
              "garage              3316\n",
              "commercial           278\n",
              "industrial           265\n",
              "retail               222\n",
              "                   ...  \n",
              "oil_tank               1\n",
              "interlocking           1\n",
              "public_building        1\n",
              "coast_guard            1\n",
              "works                  1\n",
              "Name: type, Length: 88, dtype: int64"
            ]
          },
          "metadata": {},
          "execution_count": 14
        }
      ]
    },
    {
      "cell_type": "code",
      "source": [
        "buildings['type'].unique()"
      ],
      "metadata": {
        "colab": {
          "base_uri": "https://localhost:8080/"
        },
        "id": "iX3pesuiYQdp",
        "outputId": "a9e17b44-c84b-4a1d-8e12-917c64ff53d0"
      },
      "execution_count": 15,
      "outputs": [
        {
          "output_type": "execute_result",
          "data": {
            "text/plain": [
              "array(['retail', None, 'public_building', 'bus_station', 'university',\n",
              "       'parking', 'community_centre', 'wastewater_plant',\n",
              "       'social_facility', 'fort', 'warehouse', 'industrial', 'school',\n",
              "       'place_of_worship', 'commercial', 'roof', 'house', 'museum',\n",
              "       'stable', 'church', 'hospital', 'library', 'motel', 'fast_food',\n",
              "       'restaurant', 'apartments', 'vacant', 'terrace', 'bar', 'toilets',\n",
              "       'police', 'townhall', 'hotel', 'greenhouse', 'doctors', 'bank',\n",
              "       'service', 'civic', 'garage', 'clinic', 'coast_guard',\n",
              "       'farm_auxiliary', 'hangar', 'fire_station', 'cinema', 'dormitory',\n",
              "       'office', 'cafe', 'public', 'pharmacy', 'residential',\n",
              "       'veterinary', 'social_centre', 'interlocking', 'oil_tank', 'shed',\n",
              "       'gasometer', 'storage_tank', 'dentist', 'disused:yes', 'ice_cream',\n",
              "       'pumping_station', 'hut', 'radio_studio', 'casino', 'nightclub',\n",
              "       'silo', 'car_wash', 'gambling', 'post_office', 'pub', 'ruins',\n",
              "       'fuel', 'tower', 'building', 'chapel', 'detached', 'shelter',\n",
              "       'childcare', 'carport', 'manse', 'barn', 'quonset', 'garages',\n",
              "       'proposed', 'events_venue', 'construction', 'pavilion', 'works'],\n",
              "      dtype=object)"
            ]
          },
          "metadata": {},
          "execution_count": 15
        }
      ]
    },
    {
      "cell_type": "code",
      "source": [
        "plt.figure(figsize =(10, 7))\n",
        "plt.hist(buildings['type'].value_counts(),color = \"maroon\", ec=\"black\",rwidth=0.75)\n",
        "plt.show()"
      ],
      "metadata": {
        "colab": {
          "base_uri": "https://localhost:8080/",
          "height": 428
        },
        "id": "yKAiZ4SXBmq1",
        "outputId": "033dcafd-4bf8-413f-b269-3fb5a188a020"
      },
      "execution_count": 16,
      "outputs": [
        {
          "output_type": "display_data",
          "data": {
            "text/plain": [
              "<Figure size 720x504 with 1 Axes>"
            ],
            "image/png": "[encoded data removed]"
          },
          "metadata": {
            "needs_background": "light"
          }
        }
      ]
    },
    {
      "cell_type": "code",
      "source": [
        "data = ['None', 'public_building', 'community_centre', 'wastewater_plant',\n",
        "       'social_facility', 'fort', 'warehouse', 'place_of_worship', \n",
        "       'commercial', 'roof', 'house', 'museum',\n",
        "       'stable', 'church', 'library', 'fast_food',\n",
        "       'restaurant', 'apartments', 'vacant', 'terrace', 'bar', 'toilets',\n",
        "       'police', 'townhall', 'greenhouse', 'doctors', 'bank',\n",
        "       'service', 'civic', 'clinic', 'coast_guard', 'farm_auxiliary', \n",
        "       'hangar', 'fire_station', 'cinema', 'dormitory', 'cafe', 'pharmacy',\n",
        "       'veterinary', 'interlocking', 'oil_tank', 'shed',\n",
        "       'gasometer', 'storage_tank', 'dentist', 'disused:yes', 'ice_cream', 'hut',\n",
        "       'radio_studio', 'casino', 'nightclub', 'silo', 'gambling',\n",
        "        'post_office', 'pub', 'ruins', 'tower', 'chapel', 'detached', \n",
        "       'shelter', 'childcare', 'manse', 'barn', 'quonset','proposed',\n",
        "       'events_venue', 'construction', 'pavilion']\n",
        "\n",
        "# Dropping locations from data where installing Charging station is not feasible\n",
        "\n",
        "for location in data:\n",
        "  buildings.drop(buildings.loc[buildings['type'] == location ].index, inplace=True)"
      ],
      "metadata": {
        "id": "idXCaO3FD4-_"
      },
      "execution_count": 17,
      "outputs": []
    },
    {
      "cell_type": "code",
      "source": [
        "buildings.drop(buildings.loc[buildings['type'] == None ].index, inplace=True)"
      ],
      "metadata": {
        "id": "HnxPTsJPdLrV"
      },
      "execution_count": 18,
      "outputs": []
    },
    {
      "cell_type": "code",
      "source": [
        "#Dropping useless columns\n",
        "buildings =  buildings.drop(['name'],axis=1)"
      ],
      "metadata": {
        "id": "ZsuOhbEjYA7_"
      },
      "execution_count": 19,
      "outputs": []
    },
    {
      "cell_type": "code",
      "source": [
        "buildings.head()"
      ],
      "metadata": {
        "colab": {
          "base_uri": "https://localhost:8080/",
          "height": 206
        },
        "id": "7zAFQaFRYYmZ",
        "outputId": "0e4ffc18-2ef0-48aa-fe88-a69aa2210ea9"
      },
      "execution_count": 20,
      "outputs": [
        {
          "output_type": "execute_result",
          "data": {
            "text/plain": [
              "     osm_id         type                                           geometry\n",
              "0  23348166       retail  POLYGON ((-82.93770 42.31559, -82.93753 42.315...\n",
              "1  23348398         None  POLYGON ((-82.93841 42.31250, -82.93825 42.312...\n",
              "2  23348456       retail  POLYGON ((-82.94159 42.31351, -82.94135 42.313...\n",
              "4  23375623       retail  POLYGON ((-82.92992 42.31544, -82.92992 42.315...\n",
              "5  23388679  bus_station  POLYGON ((-83.04335 42.31790, -83.04315 42.317..."
            ],
            "text/html": [
              "\n",
              "  <div id=\"df-e06341be-9a25-4533-9bda-55ededa8d5f5\">\n",
              "    <div class=\"colab-df-container\">\n",
              "      <div>\n",
              "<style scoped>\n",
              "    .dataframe tbody tr th:only-of-type {\n",
              "        vertical-align: middle;\n",
              "    }\n",
              "\n",
              "    .dataframe tbody tr th {\n",
              "        vertical-align: top;\n",
              "    }\n",
              "\n",
              "    .dataframe thead th {\n",
              "        text-align: right;\n",
              "    }\n",
              "</style>\n",
              "<table border=\"1\" class=\"dataframe\">\n",
              "  <thead>\n",
              "    <tr style=\"text-align: right;\">\n",
              "      <th></th>\n",
              "      <th>osm_id</th>\n",
              "      <th>type</th>\n",
              "      <th>geometry</th>\n",
              "    </tr>\n",
              "  </thead>\n",
              "  <tbody>\n",
              "    <tr>\n",
              "      <th>0</th>\n",
              "      <td>23348166</td>\n",
              "      <td>retail</td>\n",
              "      <td>POLYGON ((-82.93770 42.31559, -82.93753 42.315...</td>\n",
              "    </tr>\n",
              "    <tr>\n",
              "      <th>1</th>\n",
              "      <td>23348398</td>\n",
              "      <td>None</td>\n",
              "      <td>POLYGON ((-82.93841 42.31250, -82.93825 42.312...</td>\n",
              "    </tr>\n",
              "    <tr>\n",
              "      <th>2</th>\n",
              "      <td>23348456</td>\n",
              "      <td>retail</td>\n",
              "      <td>POLYGON ((-82.94159 42.31351, -82.94135 42.313...</td>\n",
              "    </tr>\n",
              "    <tr>\n",
              "      <th>4</th>\n",
              "      <td>23375623</td>\n",
              "      <td>retail</td>\n",
              "      <td>POLYGON ((-82.92992 42.31544, -82.92992 42.315...</td>\n",
              "    </tr>\n",
              "    <tr>\n",
              "      <th>5</th>\n",
              "      <td>23388679</td>\n",
              "      <td>bus_station</td>\n",
              "      <td>POLYGON ((-83.04335 42.31790, -83.04315 42.317...</td>\n",
              "    </tr>\n",
              "  </tbody>\n",
              "</table>\n",
              "</div>\n",
              "      <button class=\"colab-df-convert\" onclick=\"convertToInteractive('df-e06341be-9a25-4533-9bda-55ededa8d5f5')\"\n",
              "              title=\"Convert this dataframe to an interactive table.\"\n",
              "              style=\"display:none;\">\n",
              "        \n",
              "  <svg xmlns=\"http://www.w3.org/2000/svg\" height=\"24px\"viewBox=\"0 0 24 24\"\n",
              "       width=\"24px\">\n",
              "    <path d=\"M0 0h24v24H0V0z\" fill=\"none\"/>\n",
              "    <path d=\"M18.56 5.44l.94 2.06.94-2.06 2.06-.94-2.06-.94-.94-2.06-.94 2.06-2.06.94zm-11 1L8.5 8.5l.94-2.06 2.06-.94-2.06-.94L8.5 2.5l-.94 2.06-2.06.94zm10 10l.94 2.06.94-2.06 2.06-.94-2.06-.94-.94-2.06-.94 2.06-2.06.94z\"/><path d=\"M17.41 7.96l-1.37-1.37c-.4-.4-.92-.59-1.43-.59-.52 0-1.04.2-1.43.59L10.3 9.45l-7.72 7.72c-.78.78-.78 2.05 0 2.83L4 21.41c.39.39.9.59 1.41.59.51 0 1.02-.2 1.41-.59l7.78-7.78 2.81-2.81c.8-.78.8-2.07 0-2.86zM5.41 20L4 18.59l7.72-7.72 1.47 1.35L5.41 20z\"/>\n",
              "  </svg>\n",
              "      </button>\n",
              "      \n",
              "  <style>\n",
              "    .colab-df-container {\n",
              "      display:flex;\n",
              "      flex-wrap:wrap;\n",
              "      gap: 12px;\n",
              "    }\n",
              "\n",
              "    .colab-df-convert {\n",
              "      background-color: #E8F0FE;\n",
              "      border: none;\n",
              "      border-radius: 50%;\n",
              "      cursor: pointer;\n",
              "      display: none;\n",
              "      fill: #1967D2;\n",
              "      height: 32px;\n",
              "      padding: 0 0 0 0;\n",
              "      width: 32px;\n",
              "    }\n",
              "\n",
              "    .colab-df-convert:hover {\n",
              "      background-color: #E2EBFA;\n",
              "      box-shadow: 0px 1px 2px rgba(60, 64, 67, 0.3), 0px 1px 3px 1px rgba(60, 64, 67, 0.15);\n",
              "      fill: #174EA6;\n",
              "    }\n",
              "\n",
              "    [theme=dark] .colab-df-convert {\n",
              "      background-color: #3B4455;\n",
              "      fill: #D2E3FC;\n",
              "    }\n",
              "\n",
              "    [theme=dark] .colab-df-convert:hover {\n",
              "      background-color: #434B5C;\n",
              "      box-shadow: 0px 1px 3px 1px rgba(0, 0, 0, 0.15);\n",
              "      filter: drop-shadow(0px 1px 2px rgba(0, 0, 0, 0.3));\n",
              "      fill: #FFFFFF;\n",
              "    }\n",
              "  </style>\n",
              "\n",
              "      <script>\n",
              "        const buttonEl =\n",
              "          document.querySelector('#df-e06341be-9a25-4533-9bda-55ededa8d5f5 button.colab-df-convert');\n",
              "        buttonEl.style.display =\n",
              "          google.colab.kernel.accessAllowed ? 'block' : 'none';\n",
              "\n",
              "        async function convertToInteractive(key) {\n",
              "          const element = document.querySelector('#df-e06341be-9a25-4533-9bda-55ededa8d5f5');\n",
              "          const dataTable =\n",
              "            await google.colab.kernel.invokeFunction('convertToInteractive',\n",
              "                                                     [key], {});\n",
              "          if (!dataTable) return;\n",
              "\n",
              "          const docLinkHtml = 'Like what you see? Visit the ' +\n",
              "            '<a target=\"_blank\" href=https://colab.research.google.com/notebooks/data_table.ipynb>data table notebook</a>'\n",
              "            + ' to learn more about interactive tables.';\n",
              "          element.innerHTML = '';\n",
              "          dataTable['output_type'] = 'display_data';\n",
              "          await google.colab.output.renderOutput(dataTable, element);\n",
              "          const docLink = document.createElement('div');\n",
              "          docLink.innerHTML = docLinkHtml;\n",
              "          element.appendChild(docLink);\n",
              "        }\n",
              "      </script>\n",
              "    </div>\n",
              "  </div>\n",
              "  "
            ]
          },
          "metadata": {},
          "execution_count": 20
        }
      ]
    },
    {
      "cell_type": "markdown",
      "source": [
        "### Landuse"
      ],
      "metadata": {
        "id": "GfX9vXNyVLoB"
      }
    },
    {
      "cell_type": "code",
      "source": [
        "landuse.sample(5)"
      ],
      "metadata": {
        "colab": {
          "base_uri": "https://localhost:8080/",
          "height": 206
        },
        "id": "J3z_pTAlWT75",
        "outputId": "168e383b-cc26-431c-9de3-adecc1966dbf"
      },
      "execution_count": 21,
      "outputs": [
        {
          "output_type": "execute_result",
          "data": {
            "text/plain": [
              "          osm_id                                   name        type  \\\n",
              "2638   798539791                                   None   religious   \n",
              "3157   993780147                                   None  commercial   \n",
              "1942   751180658                                   None      retail   \n",
              "1972   751393287  Former Queen of Peace Catholic School  brownfield   \n",
              "3316  1037269912                                   None    farmland   \n",
              "\n",
              "                                               geometry  \n",
              "2638  POLYGON ((-83.09762 42.23607, -83.09788 42.235...  \n",
              "3157  POLYGON ((-82.74380 42.12821, -82.74406 42.128...  \n",
              "1942  POLYGON ((-83.02487 42.28979, -83.02624 42.289...  \n",
              "1972  POLYGON ((-82.61289 42.03842, -82.61272 42.040...  \n",
              "3316  POLYGON ((-82.74604 42.13476, -82.74358 42.136...  "
            ],
            "text/html": [
              "\n",
              "  <div id=\"df-6fa44339-87fb-4e7a-bd1d-ae613d00f0bc\">\n",
              "    <div class=\"colab-df-container\">\n",
              "      <div>\n",
              "<style scoped>\n",
              "    .dataframe tbody tr th:only-of-type {\n",
              "        vertical-align: middle;\n",
              "    }\n",
              "\n",
              "    .dataframe tbody tr th {\n",
              "        vertical-align: top;\n",
              "    }\n",
              "\n",
              "    .dataframe thead th {\n",
              "        text-align: right;\n",
              "    }\n",
              "</style>\n",
              "<table border=\"1\" class=\"dataframe\">\n",
              "  <thead>\n",
              "    <tr style=\"text-align: right;\">\n",
              "      <th></th>\n",
              "      <th>osm_id</th>\n",
              "      <th>name</th>\n",
              "      <th>type</th>\n",
              "      <th>geometry</th>\n",
              "    </tr>\n",
              "  </thead>\n",
              "  <tbody>\n",
              "    <tr>\n",
              "      <th>2638</th>\n",
              "      <td>798539791</td>\n",
              "      <td>None</td>\n",
              "      <td>religious</td>\n",
              "      <td>POLYGON ((-83.09762 42.23607, -83.09788 42.235...</td>\n",
              "    </tr>\n",
              "    <tr>\n",
              "      <th>3157</th>\n",
              "      <td>993780147</td>\n",
              "      <td>None</td>\n",
              "      <td>commercial</td>\n",
              "      <td>POLYGON ((-82.74380 42.12821, -82.74406 42.128...</td>\n",
              "    </tr>\n",
              "    <tr>\n",
              "      <th>1942</th>\n",
              "      <td>751180658</td>\n",
              "      <td>None</td>\n",
              "      <td>retail</td>\n",
              "      <td>POLYGON ((-83.02487 42.28979, -83.02624 42.289...</td>\n",
              "    </tr>\n",
              "    <tr>\n",
              "      <th>1972</th>\n",
              "      <td>751393287</td>\n",
              "      <td>Former Queen of Peace Catholic School</td>\n",
              "      <td>brownfield</td>\n",
              "      <td>POLYGON ((-82.61289 42.03842, -82.61272 42.040...</td>\n",
              "    </tr>\n",
              "    <tr>\n",
              "      <th>3316</th>\n",
              "      <td>1037269912</td>\n",
              "      <td>None</td>\n",
              "      <td>farmland</td>\n",
              "      <td>POLYGON ((-82.74604 42.13476, -82.74358 42.136...</td>\n",
              "    </tr>\n",
              "  </tbody>\n",
              "</table>\n",
              "</div>\n",
              "      <button class=\"colab-df-convert\" onclick=\"convertToInteractive('df-6fa44339-87fb-4e7a-bd1d-ae613d00f0bc')\"\n",
              "              title=\"Convert this dataframe to an interactive table.\"\n",
              "              style=\"display:none;\">\n",
              "        \n",
              "  <svg xmlns=\"http://www.w3.org/2000/svg\" height=\"24px\"viewBox=\"0 0 24 24\"\n",
              "       width=\"24px\">\n",
              "    <path d=\"M0 0h24v24H0V0z\" fill=\"none\"/>\n",
              "    <path d=\"M18.56 5.44l.94 2.06.94-2.06 2.06-.94-2.06-.94-.94-2.06-.94 2.06-2.06.94zm-11 1L8.5 8.5l.94-2.06 2.06-.94-2.06-.94L8.5 2.5l-.94 2.06-2.06.94zm10 10l.94 2.06.94-2.06 2.06-.94-2.06-.94-.94-2.06-.94 2.06-2.06.94z\"/><path d=\"M17.41 7.96l-1.37-1.37c-.4-.4-.92-.59-1.43-.59-.52 0-1.04.2-1.43.59L10.3 9.45l-7.72 7.72c-.78.78-.78 2.05 0 2.83L4 21.41c.39.39.9.59 1.41.59.51 0 1.02-.2 1.41-.59l7.78-7.78 2.81-2.81c.8-.78.8-2.07 0-2.86zM5.41 20L4 18.59l7.72-7.72 1.47 1.35L5.41 20z\"/>\n",
              "  </svg>\n",
              "      </button>\n",
              "      \n",
              "  <style>\n",
              "    .colab-df-container {\n",
              "      display:flex;\n",
              "      flex-wrap:wrap;\n",
              "      gap: 12px;\n",
              "    }\n",
              "\n",
              "    .colab-df-convert {\n",
              "      background-color: #E8F0FE;\n",
              "      border: none;\n",
              "      border-radius: 50%;\n",
              "      cursor: pointer;\n",
              "      display: none;\n",
              "      fill: #1967D2;\n",
              "      height: 32px;\n",
              "      padding: 0 0 0 0;\n",
              "      width: 32px;\n",
              "    }\n",
              "\n",
              "    .colab-df-convert:hover {\n",
              "      background-color: #E2EBFA;\n",
              "      box-shadow: 0px 1px 2px rgba(60, 64, 67, 0.3), 0px 1px 3px 1px rgba(60, 64, 67, 0.15);\n",
              "      fill: #174EA6;\n",
              "    }\n",
              "\n",
              "    [theme=dark] .colab-df-convert {\n",
              "      background-color: #3B4455;\n",
              "      fill: #D2E3FC;\n",
              "    }\n",
              "\n",
              "    [theme=dark] .colab-df-convert:hover {\n",
              "      background-color: #434B5C;\n",
              "      box-shadow: 0px 1px 3px 1px rgba(0, 0, 0, 0.15);\n",
              "      filter: drop-shadow(0px 1px 2px rgba(0, 0, 0, 0.3));\n",
              "      fill: #FFFFFF;\n",
              "    }\n",
              "  </style>\n",
              "\n",
              "      <script>\n",
              "        const buttonEl =\n",
              "          document.querySelector('#df-6fa44339-87fb-4e7a-bd1d-ae613d00f0bc button.colab-df-convert');\n",
              "        buttonEl.style.display =\n",
              "          google.colab.kernel.accessAllowed ? 'block' : 'none';\n",
              "\n",
              "        async function convertToInteractive(key) {\n",
              "          const element = document.querySelector('#df-6fa44339-87fb-4e7a-bd1d-ae613d00f0bc');\n",
              "          const dataTable =\n",
              "            await google.colab.kernel.invokeFunction('convertToInteractive',\n",
              "                                                     [key], {});\n",
              "          if (!dataTable) return;\n",
              "\n",
              "          const docLinkHtml = 'Like what you see? Visit the ' +\n",
              "            '<a target=\"_blank\" href=https://colab.research.google.com/notebooks/data_table.ipynb>data table notebook</a>'\n",
              "            + ' to learn more about interactive tables.';\n",
              "          element.innerHTML = '';\n",
              "          dataTable['output_type'] = 'display_data';\n",
              "          await google.colab.output.renderOutput(dataTable, element);\n",
              "          const docLink = document.createElement('div');\n",
              "          docLink.innerHTML = docLinkHtml;\n",
              "          element.appendChild(docLink);\n",
              "        }\n",
              "      </script>\n",
              "    </div>\n",
              "  </div>\n",
              "  "
            ]
          },
          "metadata": {},
          "execution_count": 21
        }
      ]
    },
    {
      "cell_type": "code",
      "source": [
        "landuse.shape"
      ],
      "metadata": {
        "colab": {
          "base_uri": "https://localhost:8080/"
        },
        "id": "raygP8LvWUES",
        "outputId": "824543d9-22e3-4927-dd0c-1d4e99e15e20"
      },
      "execution_count": 22,
      "outputs": [
        {
          "output_type": "execute_result",
          "data": {
            "text/plain": [
              "(3342, 4)"
            ]
          },
          "metadata": {},
          "execution_count": 22
        }
      ]
    },
    {
      "cell_type": "code",
      "source": [
        "landuse['type'].value_counts()"
      ],
      "metadata": {
        "colab": {
          "base_uri": "https://localhost:8080/"
        },
        "id": "9kUcyd1RyuSM",
        "outputId": "77925266-ccc1-49c5-ed73-f589fbad7947"
      },
      "execution_count": 23,
      "outputs": [
        {
          "output_type": "execute_result",
          "data": {
            "text/plain": [
              "residential         1179\n",
              "industrial           548\n",
              "retail               499\n",
              "grass                465\n",
              "commercial           174\n",
              "farmland             119\n",
              "religious            106\n",
              "brownfield            67\n",
              "cemetery              61\n",
              "reservoir             28\n",
              "meadow                25\n",
              "quarry                13\n",
              "construction          12\n",
              "landfill               9\n",
              "basin                  8\n",
              "farmyard               7\n",
              "recreation_groun       6\n",
              "allotments             4\n",
              "railway                3\n",
              "military               3\n",
              "orchard                2\n",
              "vineyard               1\n",
              "civic_admin            1\n",
              "plant_nursery          1\n",
              "greenhouse_horti       1\n",
              "Name: type, dtype: int64"
            ]
          },
          "metadata": {},
          "execution_count": 23
        }
      ]
    },
    {
      "cell_type": "code",
      "source": [
        "plt.figure(figsize =(25, 7))\n",
        "plt.hist(landuse['type'],color = \"maroon\", ec=\"black\")\n",
        "plt.show()"
      ],
      "metadata": {
        "colab": {
          "base_uri": "https://localhost:8080/",
          "height": 335
        },
        "id": "QYWPOyEbBo1g",
        "outputId": "ddc6a4ea-a109-4426-9afa-e3381d63dc48"
      },
      "execution_count": 24,
      "outputs": [
        {
          "output_type": "display_data",
          "data": {
            "text/plain": [
              "<Figure size 1800x504 with 1 Axes>"
            ],
            "image/png": "[encoded data removed]"
          },
          "metadata": {
            "needs_background": "light"
          }
        }
      ]
    },
    {
      "cell_type": "code",
      "source": [
        "landuse['type'].unique()"
      ],
      "metadata": {
        "colab": {
          "base_uri": "https://localhost:8080/"
        },
        "id": "mmoFoG14LCPj",
        "outputId": "d5ee47d5-69af-440a-afa9-5fb6e41c0629"
      },
      "execution_count": 25,
      "outputs": [
        {
          "output_type": "execute_result",
          "data": {
            "text/plain": [
              "array(['basin', 'industrial', 'retail', 'brownfield', 'cemetery',\n",
              "       'recreation_groun', 'residential', 'reservoir', 'commercial',\n",
              "       'meadow', 'quarry', 'grass', 'construction', 'railway', 'landfill',\n",
              "       'farmland', 'allotments', 'religious', 'military', 'vineyard',\n",
              "       'civic_admin', 'orchard', 'farmyard', 'plant_nursery',\n",
              "       'greenhouse_horti'], dtype=object)"
            ]
          },
          "metadata": {},
          "execution_count": 25
        }
      ]
    },
    {
      "cell_type": "code",
      "source": [
        "data = ['basin', 'industrial', 'brownfield', 'cemetery',\n",
        "       'recreation_groun', 'reservoir',\n",
        "       'meadow', 'quarry', 'grass', 'construction', 'landfill',\n",
        "       'farmland', 'allotments', 'religious', 'military', 'vineyard',\n",
        "       'civic_admin', 'orchard', 'farmyard', 'plant_nursery',\n",
        "       'greenhouse_horti']\n",
        "\n",
        "# Dropping locations from data where installing Charging station is not feasible\n",
        "\n",
        "for location in data:\n",
        "  landuse.drop(landuse.loc[landuse['type'] == location ].index, inplace=True)"
      ],
      "metadata": {
        "id": "mBYoVx2mD-yx"
      },
      "execution_count": 26,
      "outputs": []
    },
    {
      "cell_type": "code",
      "source": [
        "#Dropping useless columns\n",
        "landuse =  landuse.drop(['name'],axis=1)"
      ],
      "metadata": {
        "id": "pHUCL12KYxjM"
      },
      "execution_count": 27,
      "outputs": []
    },
    {
      "cell_type": "code",
      "source": [
        "landuse.head()"
      ],
      "metadata": {
        "colab": {
          "base_uri": "https://localhost:8080/",
          "height": 206
        },
        "id": "hTKTYRcIYxuC",
        "outputId": "c408a4c8-5e2c-4d64-c4a3-d5a37b82590f"
      },
      "execution_count": 28,
      "outputs": [
        {
          "output_type": "execute_result",
          "data": {
            "text/plain": [
              "     osm_id    type                                           geometry\n",
              "3  23375580  retail  POLYGON ((-83.02855 42.26674, -83.02798 42.265...\n",
              "4  23375626  retail  POLYGON ((-82.92957 42.31667, -82.92903 42.314...\n",
              "5  23375632  retail  POLYGON ((-82.93794 42.31317, -82.93224 42.314...\n",
              "6  23375640  retail  POLYGON ((-82.94223 42.31734, -82.94086 42.315...\n",
              "7  23375653  retail  POLYGON ((-82.94514 42.31525, -82.94202 42.315..."
            ],
            "text/html": [
              "\n",
              "  <div id=\"df-31424aee-9adf-414d-94fc-4d5161ba3359\">\n",
              "    <div class=\"colab-df-container\">\n",
              "      <div>\n",
              "<style scoped>\n",
              "    .dataframe tbody tr th:only-of-type {\n",
              "        vertical-align: middle;\n",
              "    }\n",
              "\n",
              "    .dataframe tbody tr th {\n",
              "        vertical-align: top;\n",
              "    }\n",
              "\n",
              "    .dataframe thead th {\n",
              "        text-align: right;\n",
              "    }\n",
              "</style>\n",
              "<table border=\"1\" class=\"dataframe\">\n",
              "  <thead>\n",
              "    <tr style=\"text-align: right;\">\n",
              "      <th></th>\n",
              "      <th>osm_id</th>\n",
              "      <th>type</th>\n",
              "      <th>geometry</th>\n",
              "    </tr>\n",
              "  </thead>\n",
              "  <tbody>\n",
              "    <tr>\n",
              "      <th>3</th>\n",
              "      <td>23375580</td>\n",
              "      <td>retail</td>\n",
              "      <td>POLYGON ((-83.02855 42.26674, -83.02798 42.265...</td>\n",
              "    </tr>\n",
              "    <tr>\n",
              "      <th>4</th>\n",
              "      <td>23375626</td>\n",
              "      <td>retail</td>\n",
              "      <td>POLYGON ((-82.92957 42.31667, -82.92903 42.314...</td>\n",
              "    </tr>\n",
              "    <tr>\n",
              "      <th>5</th>\n",
              "      <td>23375632</td>\n",
              "      <td>retail</td>\n",
              "      <td>POLYGON ((-82.93794 42.31317, -82.93224 42.314...</td>\n",
              "    </tr>\n",
              "    <tr>\n",
              "      <th>6</th>\n",
              "      <td>23375640</td>\n",
              "      <td>retail</td>\n",
              "      <td>POLYGON ((-82.94223 42.31734, -82.94086 42.315...</td>\n",
              "    </tr>\n",
              "    <tr>\n",
              "      <th>7</th>\n",
              "      <td>23375653</td>\n",
              "      <td>retail</td>\n",
              "      <td>POLYGON ((-82.94514 42.31525, -82.94202 42.315...</td>\n",
              "    </tr>\n",
              "  </tbody>\n",
              "</table>\n",
              "</div>\n",
              "      <button class=\"colab-df-convert\" onclick=\"convertToInteractive('df-31424aee-9adf-414d-94fc-4d5161ba3359')\"\n",
              "              title=\"Convert this dataframe to an interactive table.\"\n",
              "              style=\"display:none;\">\n",
              "        \n",
              "  <svg xmlns=\"http://www.w3.org/2000/svg\" height=\"24px\"viewBox=\"0 0 24 24\"\n",
              "       width=\"24px\">\n",
              "    <path d=\"M0 0h24v24H0V0z\" fill=\"none\"/>\n",
              "    <path d=\"M18.56 5.44l.94 2.06.94-2.06 2.06-.94-2.06-.94-.94-2.06-.94 2.06-2.06.94zm-11 1L8.5 8.5l.94-2.06 2.06-.94-2.06-.94L8.5 2.5l-.94 2.06-2.06.94zm10 10l.94 2.06.94-2.06 2.06-.94-2.06-.94-.94-2.06-.94 2.06-2.06.94z\"/><path d=\"M17.41 7.96l-1.37-1.37c-.4-.4-.92-.59-1.43-.59-.52 0-1.04.2-1.43.59L10.3 9.45l-7.72 7.72c-.78.78-.78 2.05 0 2.83L4 21.41c.39.39.9.59 1.41.59.51 0 1.02-.2 1.41-.59l7.78-7.78 2.81-2.81c.8-.78.8-2.07 0-2.86zM5.41 20L4 18.59l7.72-7.72 1.47 1.35L5.41 20z\"/>\n",
              "  </svg>\n",
              "      </button>\n",
              "      \n",
              "  <style>\n",
              "    .colab-df-container {\n",
              "      display:flex;\n",
              "      flex-wrap:wrap;\n",
              "      gap: 12px;\n",
              "    }\n",
              "\n",
              "    .colab-df-convert {\n",
              "      background-color: #E8F0FE;\n",
              "      border: none;\n",
              "      border-radius: 50%;\n",
              "      cursor: pointer;\n",
              "      display: none;\n",
              "      fill: #1967D2;\n",
              "      height: 32px;\n",
              "      padding: 0 0 0 0;\n",
              "      width: 32px;\n",
              "    }\n",
              "\n",
              "    .colab-df-convert:hover {\n",
              "      background-color: #E2EBFA;\n",
              "      box-shadow: 0px 1px 2px rgba(60, 64, 67, 0.3), 0px 1px 3px 1px rgba(60, 64, 67, 0.15);\n",
              "      fill: #174EA6;\n",
              "    }\n",
              "\n",
              "    [theme=dark] .colab-df-convert {\n",
              "      background-color: #3B4455;\n",
              "      fill: #D2E3FC;\n",
              "    }\n",
              "\n",
              "    [theme=dark] .colab-df-convert:hover {\n",
              "      background-color: #434B5C;\n",
              "      box-shadow: 0px 1px 3px 1px rgba(0, 0, 0, 0.15);\n",
              "      filter: drop-shadow(0px 1px 2px rgba(0, 0, 0, 0.3));\n",
              "      fill: #FFFFFF;\n",
              "    }\n",
              "  </style>\n",
              "\n",
              "      <script>\n",
              "        const buttonEl =\n",
              "          document.querySelector('#df-31424aee-9adf-414d-94fc-4d5161ba3359 button.colab-df-convert');\n",
              "        buttonEl.style.display =\n",
              "          google.colab.kernel.accessAllowed ? 'block' : 'none';\n",
              "\n",
              "        async function convertToInteractive(key) {\n",
              "          const element = document.querySelector('#df-31424aee-9adf-414d-94fc-4d5161ba3359');\n",
              "          const dataTable =\n",
              "            await google.colab.kernel.invokeFunction('convertToInteractive',\n",
              "                                                     [key], {});\n",
              "          if (!dataTable) return;\n",
              "\n",
              "          const docLinkHtml = 'Like what you see? Visit the ' +\n",
              "            '<a target=\"_blank\" href=https://colab.research.google.com/notebooks/data_table.ipynb>data table notebook</a>'\n",
              "            + ' to learn more about interactive tables.';\n",
              "          element.innerHTML = '';\n",
              "          dataTable['output_type'] = 'display_data';\n",
              "          await google.colab.output.renderOutput(dataTable, element);\n",
              "          const docLink = document.createElement('div');\n",
              "          docLink.innerHTML = docLinkHtml;\n",
              "          element.appendChild(docLink);\n",
              "        }\n",
              "      </script>\n",
              "    </div>\n",
              "  </div>\n",
              "  "
            ]
          },
          "metadata": {},
          "execution_count": 28
        }
      ]
    },
    {
      "cell_type": "markdown",
      "source": [
        "### Water"
      ],
      "metadata": {
        "id": "uo_kYGNPVOqO"
      }
    },
    {
      "cell_type": "code",
      "source": [
        "water.sample(5)"
      ],
      "metadata": {
        "colab": {
          "base_uri": "https://localhost:8080/",
          "height": 206
        },
        "id": "1L2PxmzmWYaL",
        "outputId": "d254c325-58da-4af9-e37c-51c117d2ccad"
      },
      "execution_count": 29,
      "outputs": [
        {
          "output_type": "execute_result",
          "data": {
            "text/plain": [
              "         osm_id  name    type  width  \\\n",
              "353   204614284  None  stream    NaN   \n",
              "3233  206176859  None  stream    NaN   \n",
              "1197  205003350  None  stream    NaN   \n",
              "3263  206176959  None  stream    NaN   \n",
              "620   204757566  None  stream    NaN   \n",
              "\n",
              "                                               geometry  \n",
              "353   LINESTRING (-82.96598 42.00576, -82.96606 42.0...  \n",
              "3233  LINESTRING (-83.03707 42.04454, -83.03724 42.0...  \n",
              "1197  LINESTRING (-82.99898 42.20341, -82.99908 42.2...  \n",
              "3263  LINESTRING (-83.08376 42.05694, -83.08188 42.0...  \n",
              "620   LINESTRING (-82.82635 42.09158, -82.82636 42.0...  "
            ],
            "text/html": [
              "\n",
              "  <div id=\"df-471ffd78-ab5b-4c7c-bb56-36e91b86c531\">\n",
              "    <div class=\"colab-df-container\">\n",
              "      <div>\n",
              "<style scoped>\n",
              "    .dataframe tbody tr th:only-of-type {\n",
              "        vertical-align: middle;\n",
              "    }\n",
              "\n",
              "    .dataframe tbody tr th {\n",
              "        vertical-align: top;\n",
              "    }\n",
              "\n",
              "    .dataframe thead th {\n",
              "        text-align: right;\n",
              "    }\n",
              "</style>\n",
              "<table border=\"1\" class=\"dataframe\">\n",
              "  <thead>\n",
              "    <tr style=\"text-align: right;\">\n",
              "      <th></th>\n",
              "      <th>osm_id</th>\n",
              "      <th>name</th>\n",
              "      <th>type</th>\n",
              "      <th>width</th>\n",
              "      <th>geometry</th>\n",
              "    </tr>\n",
              "  </thead>\n",
              "  <tbody>\n",
              "    <tr>\n",
              "      <th>353</th>\n",
              "      <td>204614284</td>\n",
              "      <td>None</td>\n",
              "      <td>stream</td>\n",
              "      <td>NaN</td>\n",
              "      <td>LINESTRING (-82.96598 42.00576, -82.96606 42.0...</td>\n",
              "    </tr>\n",
              "    <tr>\n",
              "      <th>3233</th>\n",
              "      <td>206176859</td>\n",
              "      <td>None</td>\n",
              "      <td>stream</td>\n",
              "      <td>NaN</td>\n",
              "      <td>LINESTRING (-83.03707 42.04454, -83.03724 42.0...</td>\n",
              "    </tr>\n",
              "    <tr>\n",
              "      <th>1197</th>\n",
              "      <td>205003350</td>\n",
              "      <td>None</td>\n",
              "      <td>stream</td>\n",
              "      <td>NaN</td>\n",
              "      <td>LINESTRING (-82.99898 42.20341, -82.99908 42.2...</td>\n",
              "    </tr>\n",
              "    <tr>\n",
              "      <th>3263</th>\n",
              "      <td>206176959</td>\n",
              "      <td>None</td>\n",
              "      <td>stream</td>\n",
              "      <td>NaN</td>\n",
              "      <td>LINESTRING (-83.08376 42.05694, -83.08188 42.0...</td>\n",
              "    </tr>\n",
              "    <tr>\n",
              "      <th>620</th>\n",
              "      <td>204757566</td>\n",
              "      <td>None</td>\n",
              "      <td>stream</td>\n",
              "      <td>NaN</td>\n",
              "      <td>LINESTRING (-82.82635 42.09158, -82.82636 42.0...</td>\n",
              "    </tr>\n",
              "  </tbody>\n",
              "</table>\n",
              "</div>\n",
              "      <button class=\"colab-df-convert\" onclick=\"convertToInteractive('df-471ffd78-ab5b-4c7c-bb56-36e91b86c531')\"\n",
              "              title=\"Convert this dataframe to an interactive table.\"\n",
              "              style=\"display:none;\">\n",
              "        \n",
              "  <svg xmlns=\"http://www.w3.org/2000/svg\" height=\"24px\"viewBox=\"0 0 24 24\"\n",
              "       width=\"24px\">\n",
              "    <path d=\"M0 0h24v24H0V0z\" fill=\"none\"/>\n",
              "    <path d=\"M18.56 5.44l.94 2.06.94-2.06 2.06-.94-2.06-.94-.94-2.06-.94 2.06-2.06.94zm-11 1L8.5 8.5l.94-2.06 2.06-.94-2.06-.94L8.5 2.5l-.94 2.06-2.06.94zm10 10l.94 2.06.94-2.06 2.06-.94-2.06-.94-.94-2.06-.94 2.06-2.06.94z\"/><path d=\"M17.41 7.96l-1.37-1.37c-.4-.4-.92-.59-1.43-.59-.52 0-1.04.2-1.43.59L10.3 9.45l-7.72 7.72c-.78.78-.78 2.05 0 2.83L4 21.41c.39.39.9.59 1.41.59.51 0 1.02-.2 1.41-.59l7.78-7.78 2.81-2.81c.8-.78.8-2.07 0-2.86zM5.41 20L4 18.59l7.72-7.72 1.47 1.35L5.41 20z\"/>\n",
              "  </svg>\n",
              "      </button>\n",
              "      \n",
              "  <style>\n",
              "    .colab-df-container {\n",
              "      display:flex;\n",
              "      flex-wrap:wrap;\n",
              "      gap: 12px;\n",
              "    }\n",
              "\n",
              "    .colab-df-convert {\n",
              "      background-color: #E8F0FE;\n",
              "      border: none;\n",
              "      border-radius: 50%;\n",
              "      cursor: pointer;\n",
              "      display: none;\n",
              "      fill: #1967D2;\n",
              "      height: 32px;\n",
              "      padding: 0 0 0 0;\n",
              "      width: 32px;\n",
              "    }\n",
              "\n",
              "    .colab-df-convert:hover {\n",
              "      background-color: #E2EBFA;\n",
              "      box-shadow: 0px 1px 2px rgba(60, 64, 67, 0.3), 0px 1px 3px 1px rgba(60, 64, 67, 0.15);\n",
              "      fill: #174EA6;\n",
              "    }\n",
              "\n",
              "    [theme=dark] .colab-df-convert {\n",
              "      background-color: #3B4455;\n",
              "      fill: #D2E3FC;\n",
              "    }\n",
              "\n",
              "    [theme=dark] .colab-df-convert:hover {\n",
              "      background-color: #434B5C;\n",
              "      box-shadow: 0px 1px 3px 1px rgba(0, 0, 0, 0.15);\n",
              "      filter: drop-shadow(0px 1px 2px rgba(0, 0, 0, 0.3));\n",
              "      fill: #FFFFFF;\n",
              "    }\n",
              "  </style>\n",
              "\n",
              "      <script>\n",
              "        const buttonEl =\n",
              "          document.querySelector('#df-471ffd78-ab5b-4c7c-bb56-36e91b86c531 button.colab-df-convert');\n",
              "        buttonEl.style.display =\n",
              "          google.colab.kernel.accessAllowed ? 'block' : 'none';\n",
              "\n",
              "        async function convertToInteractive(key) {\n",
              "          const element = document.querySelector('#df-471ffd78-ab5b-4c7c-bb56-36e91b86c531');\n",
              "          const dataTable =\n",
              "            await google.colab.kernel.invokeFunction('convertToInteractive',\n",
              "                                                     [key], {});\n",
              "          if (!dataTable) return;\n",
              "\n",
              "          const docLinkHtml = 'Like what you see? Visit the ' +\n",
              "            '<a target=\"_blank\" href=https://colab.research.google.com/notebooks/data_table.ipynb>data table notebook</a>'\n",
              "            + ' to learn more about interactive tables.';\n",
              "          element.innerHTML = '';\n",
              "          dataTable['output_type'] = 'display_data';\n",
              "          await google.colab.output.renderOutput(dataTable, element);\n",
              "          const docLink = document.createElement('div');\n",
              "          docLink.innerHTML = docLinkHtml;\n",
              "          element.appendChild(docLink);\n",
              "        }\n",
              "      </script>\n",
              "    </div>\n",
              "  </div>\n",
              "  "
            ]
          },
          "metadata": {},
          "execution_count": 29
        }
      ]
    },
    {
      "cell_type": "code",
      "source": [
        "water.shape"
      ],
      "metadata": {
        "colab": {
          "base_uri": "https://localhost:8080/"
        },
        "id": "HT1mX2hQWaYr",
        "outputId": "4dca3805-88cb-441f-aa74-e60fab9cdcf6"
      },
      "execution_count": 30,
      "outputs": [
        {
          "output_type": "execute_result",
          "data": {
            "text/plain": [
              "(4007, 5)"
            ]
          },
          "metadata": {},
          "execution_count": 30
        }
      ]
    },
    {
      "cell_type": "code",
      "source": [
        "water['type'].value_counts()"
      ],
      "metadata": {
        "colab": {
          "base_uri": "https://localhost:8080/"
        },
        "id": "bLlXkvUuyuWr",
        "outputId": "bb23bab0-7bdd-42ee-c8fe-016e62404cf1"
      },
      "execution_count": 31,
      "outputs": [
        {
          "output_type": "execute_result",
          "data": {
            "text/plain": [
              "stream    3777\n",
              "drain      160\n",
              "ditch       38\n",
              "river       24\n",
              "dock         5\n",
              "dam          2\n",
              "canal        1\n",
              "Name: type, dtype: int64"
            ]
          },
          "metadata": {},
          "execution_count": 31
        }
      ]
    },
    {
      "cell_type": "code",
      "source": [
        "plt.figure(figsize =(10, 7))\n",
        "plt.hist(water['type'],color = \"maroon\", ec=\"black\",rwidth=0.75)\n",
        "plt.show()"
      ],
      "metadata": {
        "colab": {
          "base_uri": "https://localhost:8080/",
          "height": 428
        },
        "id": "NQCiO25nBrBB",
        "outputId": "68982259-30fa-43b4-e1e8-6bcf94f8c79a"
      },
      "execution_count": 32,
      "outputs": [
        {
          "output_type": "display_data",
          "data": {
            "text/plain": [
              "<Figure size 720x504 with 1 Axes>"
            ],
            "image/png": "[encoded data removed]"
          },
          "metadata": {
            "needs_background": "light"
          }
        }
      ]
    },
    {
      "cell_type": "code",
      "source": [
        "water['type'].unique()"
      ],
      "metadata": {
        "colab": {
          "base_uri": "https://localhost:8080/"
        },
        "id": "vqEXRinVLuSf",
        "outputId": "0c3cb2cf-285e-4bce-ac05-a900f8abf083"
      },
      "execution_count": 33,
      "outputs": [
        {
          "output_type": "execute_result",
          "data": {
            "text/plain": [
              "array(['river', 'drain', 'dock', 'stream', 'dam', 'ditch', 'canal'],\n",
              "      dtype=object)"
            ]
          },
          "metadata": {},
          "execution_count": 33
        }
      ]
    },
    {
      "cell_type": "code",
      "source": [
        "data = ['river', 'drain','stream', 'dam', 'ditch', 'canal']\n",
        "\n",
        "# Dropping locations from data where installing Charging station is not feasible\n",
        "\n",
        "for location in data:\n",
        "  water.drop(water.loc[water['type'] == location ].index, inplace=True)"
      ],
      "metadata": {
        "id": "FjH5wc1BEATF"
      },
      "execution_count": 34,
      "outputs": []
    },
    {
      "cell_type": "code",
      "source": [
        "#Dropping useless columns\n",
        "water =  water.drop(['name','width'],axis=1)"
      ],
      "metadata": {
        "id": "ucmCYRdgZInq"
      },
      "execution_count": 35,
      "outputs": []
    },
    {
      "cell_type": "code",
      "source": [
        "water.head()"
      ],
      "metadata": {
        "colab": {
          "base_uri": "https://localhost:8080/",
          "height": 206
        },
        "id": "JGOtYWEtZLaL",
        "outputId": "07ff9721-5d17-4683-bbf6-e3ee2cd2a96d"
      },
      "execution_count": 36,
      "outputs": [
        {
          "output_type": "execute_result",
          "data": {
            "text/plain": [
              "         osm_id  type                                           geometry\n",
              "2       4894669  dock  LINESTRING (-83.10137 42.27106, -83.10033 42.2...\n",
              "3867  560092401  dock  LINESTRING (-83.12502 42.25973, -83.12485 42.2...\n",
              "3868  560092402  dock  LINESTRING (-83.12444 42.25944, -83.12432 42.2...\n",
              "3900  641696037  dock  LINESTRING (-82.70888 42.29813, -82.70891 42.2...\n",
              "3939  791845924  dock  LINESTRING (-82.46652 42.30798, -82.46652 42.3..."
            ],
            "text/html": [
              "\n",
              "  <div id=\"df-d944d964-3ced-466e-b445-262bba8fc496\">\n",
              "    <div class=\"colab-df-container\">\n",
              "      <div>\n",
              "<style scoped>\n",
              "    .dataframe tbody tr th:only-of-type {\n",
              "        vertical-align: middle;\n",
              "    }\n",
              "\n",
              "    .dataframe tbody tr th {\n",
              "        vertical-align: top;\n",
              "    }\n",
              "\n",
              "    .dataframe thead th {\n",
              "        text-align: right;\n",
              "    }\n",
              "</style>\n",
              "<table border=\"1\" class=\"dataframe\">\n",
              "  <thead>\n",
              "    <tr style=\"text-align: right;\">\n",
              "      <th></th>\n",
              "      <th>osm_id</th>\n",
              "      <th>type</th>\n",
              "      <th>geometry</th>\n",
              "    </tr>\n",
              "  </thead>\n",
              "  <tbody>\n",
              "    <tr>\n",
              "      <th>2</th>\n",
              "      <td>4894669</td>\n",
              "      <td>dock</td>\n",
              "      <td>LINESTRING (-83.10137 42.27106, -83.10033 42.2...</td>\n",
              "    </tr>\n",
              "    <tr>\n",
              "      <th>3867</th>\n",
              "      <td>560092401</td>\n",
              "      <td>dock</td>\n",
              "      <td>LINESTRING (-83.12502 42.25973, -83.12485 42.2...</td>\n",
              "    </tr>\n",
              "    <tr>\n",
              "      <th>3868</th>\n",
              "      <td>560092402</td>\n",
              "      <td>dock</td>\n",
              "      <td>LINESTRING (-83.12444 42.25944, -83.12432 42.2...</td>\n",
              "    </tr>\n",
              "    <tr>\n",
              "      <th>3900</th>\n",
              "      <td>641696037</td>\n",
              "      <td>dock</td>\n",
              "      <td>LINESTRING (-82.70888 42.29813, -82.70891 42.2...</td>\n",
              "    </tr>\n",
              "    <tr>\n",
              "      <th>3939</th>\n",
              "      <td>791845924</td>\n",
              "      <td>dock</td>\n",
              "      <td>LINESTRING (-82.46652 42.30798, -82.46652 42.3...</td>\n",
              "    </tr>\n",
              "  </tbody>\n",
              "</table>\n",
              "</div>\n",
              "      <button class=\"colab-df-convert\" onclick=\"convertToInteractive('df-d944d964-3ced-466e-b445-262bba8fc496')\"\n",
              "              title=\"Convert this dataframe to an interactive table.\"\n",
              "              style=\"display:none;\">\n",
              "        \n",
              "  <svg xmlns=\"http://www.w3.org/2000/svg\" height=\"24px\"viewBox=\"0 0 24 24\"\n",
              "       width=\"24px\">\n",
              "    <path d=\"M0 0h24v24H0V0z\" fill=\"none\"/>\n",
              "    <path d=\"M18.56 5.44l.94 2.06.94-2.06 2.06-.94-2.06-.94-.94-2.06-.94 2.06-2.06.94zm-11 1L8.5 8.5l.94-2.06 2.06-.94-2.06-.94L8.5 2.5l-.94 2.06-2.06.94zm10 10l.94 2.06.94-2.06 2.06-.94-2.06-.94-.94-2.06-.94 2.06-2.06.94z\"/><path d=\"M17.41 7.96l-1.37-1.37c-.4-.4-.92-.59-1.43-.59-.52 0-1.04.2-1.43.59L10.3 9.45l-7.72 7.72c-.78.78-.78 2.05 0 2.83L4 21.41c.39.39.9.59 1.41.59.51 0 1.02-.2 1.41-.59l7.78-7.78 2.81-2.81c.8-.78.8-2.07 0-2.86zM5.41 20L4 18.59l7.72-7.72 1.47 1.35L5.41 20z\"/>\n",
              "  </svg>\n",
              "      </button>\n",
              "      \n",
              "  <style>\n",
              "    .colab-df-container {\n",
              "      display:flex;\n",
              "      flex-wrap:wrap;\n",
              "      gap: 12px;\n",
              "    }\n",
              "\n",
              "    .colab-df-convert {\n",
              "      background-color: #E8F0FE;\n",
              "      border: none;\n",
              "      border-radius: 50%;\n",
              "      cursor: pointer;\n",
              "      display: none;\n",
              "      fill: #1967D2;\n",
              "      height: 32px;\n",
              "      padding: 0 0 0 0;\n",
              "      width: 32px;\n",
              "    }\n",
              "\n",
              "    .colab-df-convert:hover {\n",
              "      background-color: #E2EBFA;\n",
              "      box-shadow: 0px 1px 2px rgba(60, 64, 67, 0.3), 0px 1px 3px 1px rgba(60, 64, 67, 0.15);\n",
              "      fill: #174EA6;\n",
              "    }\n",
              "\n",
              "    [theme=dark] .colab-df-convert {\n",
              "      background-color: #3B4455;\n",
              "      fill: #D2E3FC;\n",
              "    }\n",
              "\n",
              "    [theme=dark] .colab-df-convert:hover {\n",
              "      background-color: #434B5C;\n",
              "      box-shadow: 0px 1px 3px 1px rgba(0, 0, 0, 0.15);\n",
              "      filter: drop-shadow(0px 1px 2px rgba(0, 0, 0, 0.3));\n",
              "      fill: #FFFFFF;\n",
              "    }\n",
              "  </style>\n",
              "\n",
              "      <script>\n",
              "        const buttonEl =\n",
              "          document.querySelector('#df-d944d964-3ced-466e-b445-262bba8fc496 button.colab-df-convert');\n",
              "        buttonEl.style.display =\n",
              "          google.colab.kernel.accessAllowed ? 'block' : 'none';\n",
              "\n",
              "        async function convertToInteractive(key) {\n",
              "          const element = document.querySelector('#df-d944d964-3ced-466e-b445-262bba8fc496');\n",
              "          const dataTable =\n",
              "            await google.colab.kernel.invokeFunction('convertToInteractive',\n",
              "                                                     [key], {});\n",
              "          if (!dataTable) return;\n",
              "\n",
              "          const docLinkHtml = 'Like what you see? Visit the ' +\n",
              "            '<a target=\"_blank\" href=https://colab.research.google.com/notebooks/data_table.ipynb>data table notebook</a>'\n",
              "            + ' to learn more about interactive tables.';\n",
              "          element.innerHTML = '';\n",
              "          dataTable['output_type'] = 'display_data';\n",
              "          await google.colab.output.renderOutput(dataTable, element);\n",
              "          const docLink = document.createElement('div');\n",
              "          docLink.innerHTML = docLinkHtml;\n",
              "          element.appendChild(docLink);\n",
              "        }\n",
              "      </script>\n",
              "    </div>\n",
              "  </div>\n",
              "  "
            ]
          },
          "metadata": {},
          "execution_count": 36
        }
      ]
    },
    {
      "cell_type": "markdown",
      "source": [
        "### Railways"
      ],
      "metadata": {
        "id": "9c2bqtsLVSU5"
      }
    },
    {
      "cell_type": "code",
      "source": [
        "railways.sample(5)"
      ],
      "metadata": {
        "colab": {
          "base_uri": "https://localhost:8080/",
          "height": 206
        },
        "id": "X_MT-n9ZWchK",
        "outputId": "bbcb9c99-4104-4cd9-ebe6-317b2bdef487"
      },
      "execution_count": 37,
      "outputs": [
        {
          "output_type": "execute_result",
          "data": {
            "text/plain": [
              "         osm_id                                            name  type  \\\n",
              "1163  555498226                    NS Livernois Intermodal Yard  yard   \n",
              "1008  189283774                                            None  rail   \n",
              "429   161721912  Canadian Pacific Railway - Windsor Subdivision  rail   \n",
              "68      8756468            Conrail - Detroit Shared Assets Area  rail   \n",
              "721   165265176                                            None  rail   \n",
              "\n",
              "                                               geometry  \n",
              "1163  LINESTRING (-83.11167 42.31887, -83.11253 42.3...  \n",
              "1008  LINESTRING (-83.12892 42.25324, -83.12895 42.2...  \n",
              "429   LINESTRING (-82.94563 42.28948, -82.94312 42.2...  \n",
              "68    LINESTRING (-83.14858 42.30043, -83.14858 42.3...  \n",
              "721   LINESTRING (-83.12118 42.28106, -83.12106 42.2...  "
            ],
            "text/html": [
              "\n",
              "  <div id=\"df-19eba49e-ce0c-4834-9c6b-cd023b06de3d\">\n",
              "    <div class=\"colab-df-container\">\n",
              "      <div>\n",
              "<style scoped>\n",
              "    .dataframe tbody tr th:only-of-type {\n",
              "        vertical-align: middle;\n",
              "    }\n",
              "\n",
              "    .dataframe tbody tr th {\n",
              "        vertical-align: top;\n",
              "    }\n",
              "\n",
              "    .dataframe thead th {\n",
              "        text-align: right;\n",
              "    }\n",
              "</style>\n",
              "<table border=\"1\" class=\"dataframe\">\n",
              "  <thead>\n",
              "    <tr style=\"text-align: right;\">\n",
              "      <th></th>\n",
              "      <th>osm_id</th>\n",
              "      <th>name</th>\n",
              "      <th>type</th>\n",
              "      <th>geometry</th>\n",
              "    </tr>\n",
              "  </thead>\n",
              "  <tbody>\n",
              "    <tr>\n",
              "      <th>1163</th>\n",
              "      <td>555498226</td>\n",
              "      <td>NS Livernois Intermodal Yard</td>\n",
              "      <td>yard</td>\n",
              "      <td>LINESTRING (-83.11167 42.31887, -83.11253 42.3...</td>\n",
              "    </tr>\n",
              "    <tr>\n",
              "      <th>1008</th>\n",
              "      <td>189283774</td>\n",
              "      <td>None</td>\n",
              "      <td>rail</td>\n",
              "      <td>LINESTRING (-83.12892 42.25324, -83.12895 42.2...</td>\n",
              "    </tr>\n",
              "    <tr>\n",
              "      <th>429</th>\n",
              "      <td>161721912</td>\n",
              "      <td>Canadian Pacific Railway - Windsor Subdivision</td>\n",
              "      <td>rail</td>\n",
              "      <td>LINESTRING (-82.94563 42.28948, -82.94312 42.2...</td>\n",
              "    </tr>\n",
              "    <tr>\n",
              "      <th>68</th>\n",
              "      <td>8756468</td>\n",
              "      <td>Conrail - Detroit Shared Assets Area</td>\n",
              "      <td>rail</td>\n",
              "      <td>LINESTRING (-83.14858 42.30043, -83.14858 42.3...</td>\n",
              "    </tr>\n",
              "    <tr>\n",
              "      <th>721</th>\n",
              "      <td>165265176</td>\n",
              "      <td>None</td>\n",
              "      <td>rail</td>\n",
              "      <td>LINESTRING (-83.12118 42.28106, -83.12106 42.2...</td>\n",
              "    </tr>\n",
              "  </tbody>\n",
              "</table>\n",
              "</div>\n",
              "      <button class=\"colab-df-convert\" onclick=\"convertToInteractive('df-19eba49e-ce0c-4834-9c6b-cd023b06de3d')\"\n",
              "              title=\"Convert this dataframe to an interactive table.\"\n",
              "              style=\"display:none;\">\n",
              "        \n",
              "  <svg xmlns=\"http://www.w3.org/2000/svg\" height=\"24px\"viewBox=\"0 0 24 24\"\n",
              "       width=\"24px\">\n",
              "    <path d=\"M0 0h24v24H0V0z\" fill=\"none\"/>\n",
              "    <path d=\"M18.56 5.44l.94 2.06.94-2.06 2.06-.94-2.06-.94-.94-2.06-.94 2.06-2.06.94zm-11 1L8.5 8.5l.94-2.06 2.06-.94-2.06-.94L8.5 2.5l-.94 2.06-2.06.94zm10 10l.94 2.06.94-2.06 2.06-.94-2.06-.94-.94-2.06-.94 2.06-2.06.94z\"/><path d=\"M17.41 7.96l-1.37-1.37c-.4-.4-.92-.59-1.43-.59-.52 0-1.04.2-1.43.59L10.3 9.45l-7.72 7.72c-.78.78-.78 2.05 0 2.83L4 21.41c.39.39.9.59 1.41.59.51 0 1.02-.2 1.41-.59l7.78-7.78 2.81-2.81c.8-.78.8-2.07 0-2.86zM5.41 20L4 18.59l7.72-7.72 1.47 1.35L5.41 20z\"/>\n",
              "  </svg>\n",
              "      </button>\n",
              "      \n",
              "  <style>\n",
              "    .colab-df-container {\n",
              "      display:flex;\n",
              "      flex-wrap:wrap;\n",
              "      gap: 12px;\n",
              "    }\n",
              "\n",
              "    .colab-df-convert {\n",
              "      background-color: #E8F0FE;\n",
              "      border: none;\n",
              "      border-radius: 50%;\n",
              "      cursor: pointer;\n",
              "      display: none;\n",
              "      fill: #1967D2;\n",
              "      height: 32px;\n",
              "      padding: 0 0 0 0;\n",
              "      width: 32px;\n",
              "    }\n",
              "\n",
              "    .colab-df-convert:hover {\n",
              "      background-color: #E2EBFA;\n",
              "      box-shadow: 0px 1px 2px rgba(60, 64, 67, 0.3), 0px 1px 3px 1px rgba(60, 64, 67, 0.15);\n",
              "      fill: #174EA6;\n",
              "    }\n",
              "\n",
              "    [theme=dark] .colab-df-convert {\n",
              "      background-color: #3B4455;\n",
              "      fill: #D2E3FC;\n",
              "    }\n",
              "\n",
              "    [theme=dark] .colab-df-convert:hover {\n",
              "      background-color: #434B5C;\n",
              "      box-shadow: 0px 1px 3px 1px rgba(0, 0, 0, 0.15);\n",
              "      filter: drop-shadow(0px 1px 2px rgba(0, 0, 0, 0.3));\n",
              "      fill: #FFFFFF;\n",
              "    }\n",
              "  </style>\n",
              "\n",
              "      <script>\n",
              "        const buttonEl =\n",
              "          document.querySelector('#df-19eba49e-ce0c-4834-9c6b-cd023b06de3d button.colab-df-convert');\n",
              "        buttonEl.style.display =\n",
              "          google.colab.kernel.accessAllowed ? 'block' : 'none';\n",
              "\n",
              "        async function convertToInteractive(key) {\n",
              "          const element = document.querySelector('#df-19eba49e-ce0c-4834-9c6b-cd023b06de3d');\n",
              "          const dataTable =\n",
              "            await google.colab.kernel.invokeFunction('convertToInteractive',\n",
              "                                                     [key], {});\n",
              "          if (!dataTable) return;\n",
              "\n",
              "          const docLinkHtml = 'Like what you see? Visit the ' +\n",
              "            '<a target=\"_blank\" href=https://colab.research.google.com/notebooks/data_table.ipynb>data table notebook</a>'\n",
              "            + ' to learn more about interactive tables.';\n",
              "          element.innerHTML = '';\n",
              "          dataTable['output_type'] = 'display_data';\n",
              "          await google.colab.output.renderOutput(dataTable, element);\n",
              "          const docLink = document.createElement('div');\n",
              "          docLink.innerHTML = docLinkHtml;\n",
              "          element.appendChild(docLink);\n",
              "        }\n",
              "      </script>\n",
              "    </div>\n",
              "  </div>\n",
              "  "
            ]
          },
          "metadata": {},
          "execution_count": 37
        }
      ]
    },
    {
      "cell_type": "code",
      "source": [
        "railways.shape"
      ],
      "metadata": {
        "colab": {
          "base_uri": "https://localhost:8080/"
        },
        "id": "Fes9sBtrWfMq",
        "outputId": "f9f5fe45-1ec8-4c08-c036-bfffdab5161c"
      },
      "execution_count": 38,
      "outputs": [
        {
          "output_type": "execute_result",
          "data": {
            "text/plain": [
              "(1221, 4)"
            ]
          },
          "metadata": {},
          "execution_count": 38
        }
      ]
    },
    {
      "cell_type": "code",
      "source": [
        "railways['type'].value_counts()"
      ],
      "metadata": {
        "colab": {
          "base_uri": "https://localhost:8080/"
        },
        "id": "3zsvltRlyuYy",
        "outputId": "886be98b-98c2-4a56-d3be-e11722dbecda"
      },
      "execution_count": 39,
      "outputs": [
        {
          "output_type": "execute_result",
          "data": {
            "text/plain": [
              "rail         1076\n",
              "abandoned      86\n",
              "disused        50\n",
              "yard            7\n",
              "turntable       1\n",
              "razed           1\n",
              "Name: type, dtype: int64"
            ]
          },
          "metadata": {},
          "execution_count": 39
        }
      ]
    },
    {
      "cell_type": "code",
      "source": [
        "plt.figure(figsize =(10, 7))\n",
        "plt.hist(railways['type'],color = \"maroon\", ec=\"black\",rwidth=0.75)\n",
        "plt.show()"
      ],
      "metadata": {
        "colab": {
          "base_uri": "https://localhost:8080/",
          "height": 428
        },
        "id": "xyOr-VmSBsyr",
        "outputId": "73a6b69b-e09a-4028-d0d6-94aeb1f98cd1"
      },
      "execution_count": 40,
      "outputs": [
        {
          "output_type": "display_data",
          "data": {
            "text/plain": [
              "<Figure size 720x504 with 1 Axes>"
            ],
            "image/png": "[encoded data removed]"
          },
          "metadata": {
            "needs_background": "light"
          }
        }
      ]
    },
    {
      "cell_type": "code",
      "source": [
        "railways['type'].unique()"
      ],
      "metadata": {
        "colab": {
          "base_uri": "https://localhost:8080/"
        },
        "id": "S5W5-UGdMBh9",
        "outputId": "0d7f420f-d506-4579-9ff2-eaba111146fe"
      },
      "execution_count": 41,
      "outputs": [
        {
          "output_type": "execute_result",
          "data": {
            "text/plain": [
              "array(['rail', 'disused', 'abandoned', 'turntable', 'yard', 'razed'],\n",
              "      dtype=object)"
            ]
          },
          "metadata": {},
          "execution_count": 41
        }
      ]
    },
    {
      "cell_type": "code",
      "source": [
        "data = ['rail', 'disused', 'turntable', 'yard', 'razed']\n",
        "\n",
        "# Dropping locations from data where installing Charging station is not feasible\n",
        "\n",
        "for location in data:\n",
        "  railways.drop(railways.loc[railways['type'] == location ].index, inplace=True)"
      ],
      "metadata": {
        "id": "UjF5QsjiEBpQ"
      },
      "execution_count": 42,
      "outputs": []
    },
    {
      "cell_type": "code",
      "source": [
        "#Dropping useless columns\n",
        "railways =  railways.drop(['name'],axis=1)"
      ],
      "metadata": {
        "id": "OCeDEZ09ZVpa"
      },
      "execution_count": 43,
      "outputs": []
    },
    {
      "cell_type": "code",
      "source": [
        "railways.head()"
      ],
      "metadata": {
        "colab": {
          "base_uri": "https://localhost:8080/",
          "height": 206
        },
        "id": "5eTVJOmDZVwG",
        "outputId": "5edc5d77-dc1d-48c6-caf7-86aea94a4841"
      },
      "execution_count": 44,
      "outputs": [
        {
          "output_type": "execute_result",
          "data": {
            "text/plain": [
              "      osm_id       type                                           geometry\n",
              "39   8733493  abandoned  LINESTRING (-83.13030 42.29039, -83.13040 42.2...\n",
              "52   8742730  abandoned  LINESTRING (-83.14178 42.21921, -83.14211 42.2...\n",
              "54   8746328  abandoned  LINESTRING (-83.12910 42.29239, -83.12939 42.2...\n",
              "55   8746363  abandoned  LINESTRING (-83.11881 42.29049, -83.11872 42.2...\n",
              "96  23306775  abandoned  LINESTRING (-82.95930 42.24705, -82.96014 42.2..."
            ],
            "text/html": [
              "\n",
              "  <div id=\"df-b9a1e512-7897-4d7a-b200-1eb2e507c6a7\">\n",
              "    <div class=\"colab-df-container\">\n",
              "      <div>\n",
              "<style scoped>\n",
              "    .dataframe tbody tr th:only-of-type {\n",
              "        vertical-align: middle;\n",
              "    }\n",
              "\n",
              "    .dataframe tbody tr th {\n",
              "        vertical-align: top;\n",
              "    }\n",
              "\n",
              "    .dataframe thead th {\n",
              "        text-align: right;\n",
              "    }\n",
              "</style>\n",
              "<table border=\"1\" class=\"dataframe\">\n",
              "  <thead>\n",
              "    <tr style=\"text-align: right;\">\n",
              "      <th></th>\n",
              "      <th>osm_id</th>\n",
              "      <th>type</th>\n",
              "      <th>geometry</th>\n",
              "    </tr>\n",
              "  </thead>\n",
              "  <tbody>\n",
              "    <tr>\n",
              "      <th>39</th>\n",
              "      <td>8733493</td>\n",
              "      <td>abandoned</td>\n",
              "      <td>LINESTRING (-83.13030 42.29039, -83.13040 42.2...</td>\n",
              "    </tr>\n",
              "    <tr>\n",
              "      <th>52</th>\n",
              "      <td>8742730</td>\n",
              "      <td>abandoned</td>\n",
              "      <td>LINESTRING (-83.14178 42.21921, -83.14211 42.2...</td>\n",
              "    </tr>\n",
              "    <tr>\n",
              "      <th>54</th>\n",
              "      <td>8746328</td>\n",
              "      <td>abandoned</td>\n",
              "      <td>LINESTRING (-83.12910 42.29239, -83.12939 42.2...</td>\n",
              "    </tr>\n",
              "    <tr>\n",
              "      <th>55</th>\n",
              "      <td>8746363</td>\n",
              "      <td>abandoned</td>\n",
              "      <td>LINESTRING (-83.11881 42.29049, -83.11872 42.2...</td>\n",
              "    </tr>\n",
              "    <tr>\n",
              "      <th>96</th>\n",
              "      <td>23306775</td>\n",
              "      <td>abandoned</td>\n",
              "      <td>LINESTRING (-82.95930 42.24705, -82.96014 42.2...</td>\n",
              "    </tr>\n",
              "  </tbody>\n",
              "</table>\n",
              "</div>\n",
              "      <button class=\"colab-df-convert\" onclick=\"convertToInteractive('df-b9a1e512-7897-4d7a-b200-1eb2e507c6a7')\"\n",
              "              title=\"Convert this dataframe to an interactive table.\"\n",
              "              style=\"display:none;\">\n",
              "        \n",
              "  <svg xmlns=\"http://www.w3.org/2000/svg\" height=\"24px\"viewBox=\"0 0 24 24\"\n",
              "       width=\"24px\">\n",
              "    <path d=\"M0 0h24v24H0V0z\" fill=\"none\"/>\n",
              "    <path d=\"M18.56 5.44l.94 2.06.94-2.06 2.06-.94-2.06-.94-.94-2.06-.94 2.06-2.06.94zm-11 1L8.5 8.5l.94-2.06 2.06-.94-2.06-.94L8.5 2.5l-.94 2.06-2.06.94zm10 10l.94 2.06.94-2.06 2.06-.94-2.06-.94-.94-2.06-.94 2.06-2.06.94z\"/><path d=\"M17.41 7.96l-1.37-1.37c-.4-.4-.92-.59-1.43-.59-.52 0-1.04.2-1.43.59L10.3 9.45l-7.72 7.72c-.78.78-.78 2.05 0 2.83L4 21.41c.39.39.9.59 1.41.59.51 0 1.02-.2 1.41-.59l7.78-7.78 2.81-2.81c.8-.78.8-2.07 0-2.86zM5.41 20L4 18.59l7.72-7.72 1.47 1.35L5.41 20z\"/>\n",
              "  </svg>\n",
              "      </button>\n",
              "      \n",
              "  <style>\n",
              "    .colab-df-container {\n",
              "      display:flex;\n",
              "      flex-wrap:wrap;\n",
              "      gap: 12px;\n",
              "    }\n",
              "\n",
              "    .colab-df-convert {\n",
              "      background-color: #E8F0FE;\n",
              "      border: none;\n",
              "      border-radius: 50%;\n",
              "      cursor: pointer;\n",
              "      display: none;\n",
              "      fill: #1967D2;\n",
              "      height: 32px;\n",
              "      padding: 0 0 0 0;\n",
              "      width: 32px;\n",
              "    }\n",
              "\n",
              "    .colab-df-convert:hover {\n",
              "      background-color: #E2EBFA;\n",
              "      box-shadow: 0px 1px 2px rgba(60, 64, 67, 0.3), 0px 1px 3px 1px rgba(60, 64, 67, 0.15);\n",
              "      fill: #174EA6;\n",
              "    }\n",
              "\n",
              "    [theme=dark] .colab-df-convert {\n",
              "      background-color: #3B4455;\n",
              "      fill: #D2E3FC;\n",
              "    }\n",
              "\n",
              "    [theme=dark] .colab-df-convert:hover {\n",
              "      background-color: #434B5C;\n",
              "      box-shadow: 0px 1px 3px 1px rgba(0, 0, 0, 0.15);\n",
              "      filter: drop-shadow(0px 1px 2px rgba(0, 0, 0, 0.3));\n",
              "      fill: #FFFFFF;\n",
              "    }\n",
              "  </style>\n",
              "\n",
              "      <script>\n",
              "        const buttonEl =\n",
              "          document.querySelector('#df-b9a1e512-7897-4d7a-b200-1eb2e507c6a7 button.colab-df-convert');\n",
              "        buttonEl.style.display =\n",
              "          google.colab.kernel.accessAllowed ? 'block' : 'none';\n",
              "\n",
              "        async function convertToInteractive(key) {\n",
              "          const element = document.querySelector('#df-b9a1e512-7897-4d7a-b200-1eb2e507c6a7');\n",
              "          const dataTable =\n",
              "            await google.colab.kernel.invokeFunction('convertToInteractive',\n",
              "                                                     [key], {});\n",
              "          if (!dataTable) return;\n",
              "\n",
              "          const docLinkHtml = 'Like what you see? Visit the ' +\n",
              "            '<a target=\"_blank\" href=https://colab.research.google.com/notebooks/data_table.ipynb>data table notebook</a>'\n",
              "            + ' to learn more about interactive tables.';\n",
              "          element.innerHTML = '';\n",
              "          dataTable['output_type'] = 'display_data';\n",
              "          await google.colab.output.renderOutput(dataTable, element);\n",
              "          const docLink = document.createElement('div');\n",
              "          docLink.innerHTML = docLinkHtml;\n",
              "          element.appendChild(docLink);\n",
              "        }\n",
              "      </script>\n",
              "    </div>\n",
              "  </div>\n",
              "  "
            ]
          },
          "metadata": {},
          "execution_count": 44
        }
      ]
    },
    {
      "cell_type": "markdown",
      "source": [
        "### Natural"
      ],
      "metadata": {
        "id": "80-RJ9UQVWP0"
      }
    },
    {
      "cell_type": "code",
      "source": [
        "natural.sample(5)"
      ],
      "metadata": {
        "colab": {
          "base_uri": "https://localhost:8080/",
          "height": 206
        },
        "id": "J-FU1SP1WiDk",
        "outputId": "3fdc0113-1cb8-4156-be85-10416b8a7525"
      },
      "execution_count": 45,
      "outputs": [
        {
          "output_type": "execute_result",
          "data": {
            "text/plain": [
              "         osm_id                  name    type  \\\n",
              "612   204757976                  None  forest   \n",
              "606   204757968                  None  forest   \n",
              "1628  205713175  Lloyd Wilkinson Park    park   \n",
              "2393  492430451           Wilson Park    park   \n",
              "180   179817165                  None  forest   \n",
              "\n",
              "                                               geometry  \n",
              "612   POLYGON ((-82.86562 42.06471, -82.86585 42.064...  \n",
              "606   POLYGON ((-82.80377 42.12080, -82.80381 42.121...  \n",
              "1628  POLYGON ((-82.58589 42.04044, -82.58682 42.041...  \n",
              "2393  POLYGON ((-83.05414 42.30684, -83.05465 42.307...  \n",
              "180   POLYGON ((-82.68763 42.03384, -82.68708 42.034...  "
            ],
            "text/html": [
              "\n",
              "  <div id=\"df-443ac74b-3c68-4544-ad8b-8dadbb42cbf9\">\n",
              "    <div class=\"colab-df-container\">\n",
              "      <div>\n",
              "<style scoped>\n",
              "    .dataframe tbody tr th:only-of-type {\n",
              "        vertical-align: middle;\n",
              "    }\n",
              "\n",
              "    .dataframe tbody tr th {\n",
              "        vertical-align: top;\n",
              "    }\n",
              "\n",
              "    .dataframe thead th {\n",
              "        text-align: right;\n",
              "    }\n",
              "</style>\n",
              "<table border=\"1\" class=\"dataframe\">\n",
              "  <thead>\n",
              "    <tr style=\"text-align: right;\">\n",
              "      <th></th>\n",
              "      <th>osm_id</th>\n",
              "      <th>name</th>\n",
              "      <th>type</th>\n",
              "      <th>geometry</th>\n",
              "    </tr>\n",
              "  </thead>\n",
              "  <tbody>\n",
              "    <tr>\n",
              "      <th>612</th>\n",
              "      <td>204757976</td>\n",
              "      <td>None</td>\n",
              "      <td>forest</td>\n",
              "      <td>POLYGON ((-82.86562 42.06471, -82.86585 42.064...</td>\n",
              "    </tr>\n",
              "    <tr>\n",
              "      <th>606</th>\n",
              "      <td>204757968</td>\n",
              "      <td>None</td>\n",
              "      <td>forest</td>\n",
              "      <td>POLYGON ((-82.80377 42.12080, -82.80381 42.121...</td>\n",
              "    </tr>\n",
              "    <tr>\n",
              "      <th>1628</th>\n",
              "      <td>205713175</td>\n",
              "      <td>Lloyd Wilkinson Park</td>\n",
              "      <td>park</td>\n",
              "      <td>POLYGON ((-82.58589 42.04044, -82.58682 42.041...</td>\n",
              "    </tr>\n",
              "    <tr>\n",
              "      <th>2393</th>\n",
              "      <td>492430451</td>\n",
              "      <td>Wilson Park</td>\n",
              "      <td>park</td>\n",
              "      <td>POLYGON ((-83.05414 42.30684, -83.05465 42.307...</td>\n",
              "    </tr>\n",
              "    <tr>\n",
              "      <th>180</th>\n",
              "      <td>179817165</td>\n",
              "      <td>None</td>\n",
              "      <td>forest</td>\n",
              "      <td>POLYGON ((-82.68763 42.03384, -82.68708 42.034...</td>\n",
              "    </tr>\n",
              "  </tbody>\n",
              "</table>\n",
              "</div>\n",
              "      <button class=\"colab-df-convert\" onclick=\"convertToInteractive('df-443ac74b-3c68-4544-ad8b-8dadbb42cbf9')\"\n",
              "              title=\"Convert this dataframe to an interactive table.\"\n",
              "              style=\"display:none;\">\n",
              "        \n",
              "  <svg xmlns=\"http://www.w3.org/2000/svg\" height=\"24px\"viewBox=\"0 0 24 24\"\n",
              "       width=\"24px\">\n",
              "    <path d=\"M0 0h24v24H0V0z\" fill=\"none\"/>\n",
              "    <path d=\"M18.56 5.44l.94 2.06.94-2.06 2.06-.94-2.06-.94-.94-2.06-.94 2.06-2.06.94zm-11 1L8.5 8.5l.94-2.06 2.06-.94-2.06-.94L8.5 2.5l-.94 2.06-2.06.94zm10 10l.94 2.06.94-2.06 2.06-.94-2.06-.94-.94-2.06-.94 2.06-2.06.94z\"/><path d=\"M17.41 7.96l-1.37-1.37c-.4-.4-.92-.59-1.43-.59-.52 0-1.04.2-1.43.59L10.3 9.45l-7.72 7.72c-.78.78-.78 2.05 0 2.83L4 21.41c.39.39.9.59 1.41.59.51 0 1.02-.2 1.41-.59l7.78-7.78 2.81-2.81c.8-.78.8-2.07 0-2.86zM5.41 20L4 18.59l7.72-7.72 1.47 1.35L5.41 20z\"/>\n",
              "  </svg>\n",
              "      </button>\n",
              "      \n",
              "  <style>\n",
              "    .colab-df-container {\n",
              "      display:flex;\n",
              "      flex-wrap:wrap;\n",
              "      gap: 12px;\n",
              "    }\n",
              "\n",
              "    .colab-df-convert {\n",
              "      background-color: #E8F0FE;\n",
              "      border: none;\n",
              "      border-radius: 50%;\n",
              "      cursor: pointer;\n",
              "      display: none;\n",
              "      fill: #1967D2;\n",
              "      height: 32px;\n",
              "      padding: 0 0 0 0;\n",
              "      width: 32px;\n",
              "    }\n",
              "\n",
              "    .colab-df-convert:hover {\n",
              "      background-color: #E2EBFA;\n",
              "      box-shadow: 0px 1px 2px rgba(60, 64, 67, 0.3), 0px 1px 3px 1px rgba(60, 64, 67, 0.15);\n",
              "      fill: #174EA6;\n",
              "    }\n",
              "\n",
              "    [theme=dark] .colab-df-convert {\n",
              "      background-color: #3B4455;\n",
              "      fill: #D2E3FC;\n",
              "    }\n",
              "\n",
              "    [theme=dark] .colab-df-convert:hover {\n",
              "      background-color: #434B5C;\n",
              "      box-shadow: 0px 1px 3px 1px rgba(0, 0, 0, 0.15);\n",
              "      filter: drop-shadow(0px 1px 2px rgba(0, 0, 0, 0.3));\n",
              "      fill: #FFFFFF;\n",
              "    }\n",
              "  </style>\n",
              "\n",
              "      <script>\n",
              "        const buttonEl =\n",
              "          document.querySelector('#df-443ac74b-3c68-4544-ad8b-8dadbb42cbf9 button.colab-df-convert');\n",
              "        buttonEl.style.display =\n",
              "          google.colab.kernel.accessAllowed ? 'block' : 'none';\n",
              "\n",
              "        async function convertToInteractive(key) {\n",
              "          const element = document.querySelector('#df-443ac74b-3c68-4544-ad8b-8dadbb42cbf9');\n",
              "          const dataTable =\n",
              "            await google.colab.kernel.invokeFunction('convertToInteractive',\n",
              "                                                     [key], {});\n",
              "          if (!dataTable) return;\n",
              "\n",
              "          const docLinkHtml = 'Like what you see? Visit the ' +\n",
              "            '<a target=\"_blank\" href=https://colab.research.google.com/notebooks/data_table.ipynb>data table notebook</a>'\n",
              "            + ' to learn more about interactive tables.';\n",
              "          element.innerHTML = '';\n",
              "          dataTable['output_type'] = 'display_data';\n",
              "          await google.colab.output.renderOutput(dataTable, element);\n",
              "          const docLink = document.createElement('div');\n",
              "          docLink.innerHTML = docLinkHtml;\n",
              "          element.appendChild(docLink);\n",
              "        }\n",
              "      </script>\n",
              "    </div>\n",
              "  </div>\n",
              "  "
            ]
          },
          "metadata": {},
          "execution_count": 45
        }
      ]
    },
    {
      "cell_type": "code",
      "source": [
        "natural.shape"
      ],
      "metadata": {
        "colab": {
          "base_uri": "https://localhost:8080/"
        },
        "id": "d50TgVAwWk2L",
        "outputId": "2a912c4c-3c64-4e9c-90a2-f58623e52743"
      },
      "execution_count": 46,
      "outputs": [
        {
          "output_type": "execute_result",
          "data": {
            "text/plain": [
              "(2734, 4)"
            ]
          },
          "metadata": {},
          "execution_count": 46
        }
      ]
    },
    {
      "cell_type": "code",
      "source": [
        "natural['type'].value_counts()"
      ],
      "metadata": {
        "colab": {
          "base_uri": "https://localhost:8080/"
        },
        "id": "xUOyEqE2yshg",
        "outputId": "bd5954bd-c476-428e-fd6c-040f52a2321c"
      },
      "execution_count": 47,
      "outputs": [
        {
          "output_type": "execute_result",
          "data": {
            "text/plain": [
              "forest    1646\n",
              "water      773\n",
              "park       315\n",
              "Name: type, dtype: int64"
            ]
          },
          "metadata": {},
          "execution_count": 47
        }
      ]
    },
    {
      "cell_type": "code",
      "source": [
        "plt.figure(figsize =(10, 7))\n",
        "plt.hist(natural['type'],color = \"maroon\", ec=\"black\",rwidth=0.75)\n",
        "plt.show()"
      ],
      "metadata": {
        "colab": {
          "base_uri": "https://localhost:8080/",
          "height": 428
        },
        "id": "AMdc5VQeBvP6",
        "outputId": "97a0f65c-65ac-4707-ee47-e2b35af83d52"
      },
      "execution_count": 48,
      "outputs": [
        {
          "output_type": "display_data",
          "data": {
            "text/plain": [
              "<Figure size 720x504 with 1 Axes>"
            ],
            "image/png": "[encoded data removed]"
          },
          "metadata": {
            "needs_background": "light"
          }
        }
      ]
    },
    {
      "cell_type": "code",
      "source": [
        "natural['type'].unique()"
      ],
      "metadata": {
        "colab": {
          "base_uri": "https://localhost:8080/"
        },
        "id": "DXN9oMNZMHcJ",
        "outputId": "2ed4b0aa-dc44-44bc-813c-c5822bfc669b"
      },
      "execution_count": 49,
      "outputs": [
        {
          "output_type": "execute_result",
          "data": {
            "text/plain": [
              "array(['water', 'park', 'forest'], dtype=object)"
            ]
          },
          "metadata": {},
          "execution_count": 49
        }
      ]
    },
    {
      "cell_type": "code",
      "source": [
        "data = ['water', 'forest']\n",
        "\n",
        "# Dropping locations from data where installing Charging station is not feasible\n",
        "\n",
        "for location in data:\n",
        "  natural.drop(natural.loc[natural['type'] == location ].index, inplace=True)"
      ],
      "metadata": {
        "id": "9LZCoUHUECn4"
      },
      "execution_count": 50,
      "outputs": []
    },
    {
      "cell_type": "code",
      "source": [
        "#Dropping useless columns\n",
        "natural =  natural.drop(['name'],axis=1)"
      ],
      "metadata": {
        "id": "7XP43ZnJZbAo"
      },
      "execution_count": 51,
      "outputs": []
    },
    {
      "cell_type": "code",
      "source": [
        "natural.head()"
      ],
      "metadata": {
        "colab": {
          "base_uri": "https://localhost:8080/",
          "height": 206
        },
        "id": "EFJBToMAZbC8",
        "outputId": "626d49c3-5ef2-4812-e16e-be0b7fe22262"
      },
      "execution_count": 52,
      "outputs": [
        {
          "output_type": "execute_result",
          "data": {
            "text/plain": [
              "      osm_id  type                                           geometry\n",
              "10  23297293  park  POLYGON ((-83.02329 42.25994, -83.02300 42.260...\n",
              "11  23306214  park  POLYGON ((-82.94930 42.32060, -82.94827 42.318...\n",
              "12  23364273  park  POLYGON ((-82.94569 42.30600, -82.94515 42.306...\n",
              "13  23388496  park  POLYGON ((-83.02515 42.29622, -83.02513 42.296...\n",
              "14  23394507  park  POLYGON ((-83.07646 42.29010, -83.07549 42.289..."
            ],
            "text/html": [
              "\n",
              "  <div id=\"df-bf69d933-a537-4089-a2d2-060c7f26de9b\">\n",
              "    <div class=\"colab-df-container\">\n",
              "      <div>\n",
              "<style scoped>\n",
              "    .dataframe tbody tr th:only-of-type {\n",
              "        vertical-align: middle;\n",
              "    }\n",
              "\n",
              "    .dataframe tbody tr th {\n",
              "        vertical-align: top;\n",
              "    }\n",
              "\n",
              "    .dataframe thead th {\n",
              "        text-align: right;\n",
              "    }\n",
              "</style>\n",
              "<table border=\"1\" class=\"dataframe\">\n",
              "  <thead>\n",
              "    <tr style=\"text-align: right;\">\n",
              "      <th></th>\n",
              "      <th>osm_id</th>\n",
              "      <th>type</th>\n",
              "      <th>geometry</th>\n",
              "    </tr>\n",
              "  </thead>\n",
              "  <tbody>\n",
              "    <tr>\n",
              "      <th>10</th>\n",
              "      <td>23297293</td>\n",
              "      <td>park</td>\n",
              "      <td>POLYGON ((-83.02329 42.25994, -83.02300 42.260...</td>\n",
              "    </tr>\n",
              "    <tr>\n",
              "      <th>11</th>\n",
              "      <td>23306214</td>\n",
              "      <td>park</td>\n",
              "      <td>POLYGON ((-82.94930 42.32060, -82.94827 42.318...</td>\n",
              "    </tr>\n",
              "    <tr>\n",
              "      <th>12</th>\n",
              "      <td>23364273</td>\n",
              "      <td>park</td>\n",
              "      <td>POLYGON ((-82.94569 42.30600, -82.94515 42.306...</td>\n",
              "    </tr>\n",
              "    <tr>\n",
              "      <th>13</th>\n",
              "      <td>23388496</td>\n",
              "      <td>park</td>\n",
              "      <td>POLYGON ((-83.02515 42.29622, -83.02513 42.296...</td>\n",
              "    </tr>\n",
              "    <tr>\n",
              "      <th>14</th>\n",
              "      <td>23394507</td>\n",
              "      <td>park</td>\n",
              "      <td>POLYGON ((-83.07646 42.29010, -83.07549 42.289...</td>\n",
              "    </tr>\n",
              "  </tbody>\n",
              "</table>\n",
              "</div>\n",
              "      <button class=\"colab-df-convert\" onclick=\"convertToInteractive('df-bf69d933-a537-4089-a2d2-060c7f26de9b')\"\n",
              "              title=\"Convert this dataframe to an interactive table.\"\n",
              "              style=\"display:none;\">\n",
              "        \n",
              "  <svg xmlns=\"http://www.w3.org/2000/svg\" height=\"24px\"viewBox=\"0 0 24 24\"\n",
              "       width=\"24px\">\n",
              "    <path d=\"M0 0h24v24H0V0z\" fill=\"none\"/>\n",
              "    <path d=\"M18.56 5.44l.94 2.06.94-2.06 2.06-.94-2.06-.94-.94-2.06-.94 2.06-2.06.94zm-11 1L8.5 8.5l.94-2.06 2.06-.94-2.06-.94L8.5 2.5l-.94 2.06-2.06.94zm10 10l.94 2.06.94-2.06 2.06-.94-2.06-.94-.94-2.06-.94 2.06-2.06.94z\"/><path d=\"M17.41 7.96l-1.37-1.37c-.4-.4-.92-.59-1.43-.59-.52 0-1.04.2-1.43.59L10.3 9.45l-7.72 7.72c-.78.78-.78 2.05 0 2.83L4 21.41c.39.39.9.59 1.41.59.51 0 1.02-.2 1.41-.59l7.78-7.78 2.81-2.81c.8-.78.8-2.07 0-2.86zM5.41 20L4 18.59l7.72-7.72 1.47 1.35L5.41 20z\"/>\n",
              "  </svg>\n",
              "      </button>\n",
              "      \n",
              "  <style>\n",
              "    .colab-df-container {\n",
              "      display:flex;\n",
              "      flex-wrap:wrap;\n",
              "      gap: 12px;\n",
              "    }\n",
              "\n",
              "    .colab-df-convert {\n",
              "      background-color: #E8F0FE;\n",
              "      border: none;\n",
              "      border-radius: 50%;\n",
              "      cursor: pointer;\n",
              "      display: none;\n",
              "      fill: #1967D2;\n",
              "      height: 32px;\n",
              "      padding: 0 0 0 0;\n",
              "      width: 32px;\n",
              "    }\n",
              "\n",
              "    .colab-df-convert:hover {\n",
              "      background-color: #E2EBFA;\n",
              "      box-shadow: 0px 1px 2px rgba(60, 64, 67, 0.3), 0px 1px 3px 1px rgba(60, 64, 67, 0.15);\n",
              "      fill: #174EA6;\n",
              "    }\n",
              "\n",
              "    [theme=dark] .colab-df-convert {\n",
              "      background-color: #3B4455;\n",
              "      fill: #D2E3FC;\n",
              "    }\n",
              "\n",
              "    [theme=dark] .colab-df-convert:hover {\n",
              "      background-color: #434B5C;\n",
              "      box-shadow: 0px 1px 3px 1px rgba(0, 0, 0, 0.15);\n",
              "      filter: drop-shadow(0px 1px 2px rgba(0, 0, 0, 0.3));\n",
              "      fill: #FFFFFF;\n",
              "    }\n",
              "  </style>\n",
              "\n",
              "      <script>\n",
              "        const buttonEl =\n",
              "          document.querySelector('#df-bf69d933-a537-4089-a2d2-060c7f26de9b button.colab-df-convert');\n",
              "        buttonEl.style.display =\n",
              "          google.colab.kernel.accessAllowed ? 'block' : 'none';\n",
              "\n",
              "        async function convertToInteractive(key) {\n",
              "          const element = document.querySelector('#df-bf69d933-a537-4089-a2d2-060c7f26de9b');\n",
              "          const dataTable =\n",
              "            await google.colab.kernel.invokeFunction('convertToInteractive',\n",
              "                                                     [key], {});\n",
              "          if (!dataTable) return;\n",
              "\n",
              "          const docLinkHtml = 'Like what you see? Visit the ' +\n",
              "            '<a target=\"_blank\" href=https://colab.research.google.com/notebooks/data_table.ipynb>data table notebook</a>'\n",
              "            + ' to learn more about interactive tables.';\n",
              "          element.innerHTML = '';\n",
              "          dataTable['output_type'] = 'display_data';\n",
              "          await google.colab.output.renderOutput(dataTable, element);\n",
              "          const docLink = document.createElement('div');\n",
              "          docLink.innerHTML = docLinkHtml;\n",
              "          element.appendChild(docLink);\n",
              "        }\n",
              "      </script>\n",
              "    </div>\n",
              "  </div>\n",
              "  "
            ]
          },
          "metadata": {},
          "execution_count": 52
        }
      ]
    },
    {
      "cell_type": "markdown",
      "source": [
        "### Roads"
      ],
      "metadata": {
        "id": "kLsYp_ZeVagX"
      }
    },
    {
      "cell_type": "code",
      "source": [
        "roads.sample(5)"
      ],
      "metadata": {
        "colab": {
          "base_uri": "https://localhost:8080/",
          "height": 206
        },
        "id": "gaQuXjKEWnBK",
        "outputId": "1169ba44-0b57-4366-c0f2-ac636d6b7c74"
      },
      "execution_count": 53,
      "outputs": [
        {
          "output_type": "execute_result",
          "data": {
            "text/plain": [
              "           osm_id                   name   ref       type  oneway  bridge  \\\n",
              "6548    116731231  Sandwich Street North    20  secondary       0       0   \n",
              "5283     31704401                   None  None    service       0       0   \n",
              "19948   787951536                   None  None    service       0       0   \n",
              "12306   489065871         Dougall Avenue  None    primary       1       0   \n",
              "23237  1036643712                   None  None    footway       0       0   \n",
              "\n",
              "       maxspeed                                           geometry  \n",
              "6548        NaN  LINESTRING (-83.11115 42.11661, -83.11128 42.1...  \n",
              "5283        NaN  LINESTRING (-82.60812 42.29701, -82.60841 42.2...  \n",
              "19948       NaN  LINESTRING (-83.05148 42.27781, -83.05088 42.2...  \n",
              "12306       NaN  LINESTRING (-83.00428 42.25792, -83.00428 42.2...  \n",
              "23237       NaN  LINESTRING (-83.11443 42.30220, -83.11543 42.3...  "
            ],
            "text/html": [
              "\n",
              "  <div id=\"df-139567b6-80dd-4557-88af-300738b9f6e3\">\n",
              "    <div class=\"colab-df-container\">\n",
              "      <div>\n",
              "<style scoped>\n",
              "    .dataframe tbody tr th:only-of-type {\n",
              "        vertical-align: middle;\n",
              "    }\n",
              "\n",
              "    .dataframe tbody tr th {\n",
              "        vertical-align: top;\n",
              "    }\n",
              "\n",
              "    .dataframe thead th {\n",
              "        text-align: right;\n",
              "    }\n",
              "</style>\n",
              "<table border=\"1\" class=\"dataframe\">\n",
              "  <thead>\n",
              "    <tr style=\"text-align: right;\">\n",
              "      <th></th>\n",
              "      <th>osm_id</th>\n",
              "      <th>name</th>\n",
              "      <th>ref</th>\n",
              "      <th>type</th>\n",
              "      <th>oneway</th>\n",
              "      <th>bridge</th>\n",
              "      <th>maxspeed</th>\n",
              "      <th>geometry</th>\n",
              "    </tr>\n",
              "  </thead>\n",
              "  <tbody>\n",
              "    <tr>\n",
              "      <th>6548</th>\n",
              "      <td>116731231</td>\n",
              "      <td>Sandwich Street North</td>\n",
              "      <td>20</td>\n",
              "      <td>secondary</td>\n",
              "      <td>0</td>\n",
              "      <td>0</td>\n",
              "      <td>NaN</td>\n",
              "      <td>LINESTRING (-83.11115 42.11661, -83.11128 42.1...</td>\n",
              "    </tr>\n",
              "    <tr>\n",
              "      <th>5283</th>\n",
              "      <td>31704401</td>\n",
              "      <td>None</td>\n",
              "      <td>None</td>\n",
              "      <td>service</td>\n",
              "      <td>0</td>\n",
              "      <td>0</td>\n",
              "      <td>NaN</td>\n",
              "      <td>LINESTRING (-82.60812 42.29701, -82.60841 42.2...</td>\n",
              "    </tr>\n",
              "    <tr>\n",
              "      <th>19948</th>\n",
              "      <td>787951536</td>\n",
              "      <td>None</td>\n",
              "      <td>None</td>\n",
              "      <td>service</td>\n",
              "      <td>0</td>\n",
              "      <td>0</td>\n",
              "      <td>NaN</td>\n",
              "      <td>LINESTRING (-83.05148 42.27781, -83.05088 42.2...</td>\n",
              "    </tr>\n",
              "    <tr>\n",
              "      <th>12306</th>\n",
              "      <td>489065871</td>\n",
              "      <td>Dougall Avenue</td>\n",
              "      <td>None</td>\n",
              "      <td>primary</td>\n",
              "      <td>1</td>\n",
              "      <td>0</td>\n",
              "      <td>NaN</td>\n",
              "      <td>LINESTRING (-83.00428 42.25792, -83.00428 42.2...</td>\n",
              "    </tr>\n",
              "    <tr>\n",
              "      <th>23237</th>\n",
              "      <td>1036643712</td>\n",
              "      <td>None</td>\n",
              "      <td>None</td>\n",
              "      <td>footway</td>\n",
              "      <td>0</td>\n",
              "      <td>0</td>\n",
              "      <td>NaN</td>\n",
              "      <td>LINESTRING (-83.11443 42.30220, -83.11543 42.3...</td>\n",
              "    </tr>\n",
              "  </tbody>\n",
              "</table>\n",
              "</div>\n",
              "      <button class=\"colab-df-convert\" onclick=\"convertToInteractive('df-139567b6-80dd-4557-88af-300738b9f6e3')\"\n",
              "              title=\"Convert this dataframe to an interactive table.\"\n",
              "              style=\"display:none;\">\n",
              "        \n",
              "  <svg xmlns=\"http://www.w3.org/2000/svg\" height=\"24px\"viewBox=\"0 0 24 24\"\n",
              "       width=\"24px\">\n",
              "    <path d=\"M0 0h24v24H0V0z\" fill=\"none\"/>\n",
              "    <path d=\"M18.56 5.44l.94 2.06.94-2.06 2.06-.94-2.06-.94-.94-2.06-.94 2.06-2.06.94zm-11 1L8.5 8.5l.94-2.06 2.06-.94-2.06-.94L8.5 2.5l-.94 2.06-2.06.94zm10 10l.94 2.06.94-2.06 2.06-.94-2.06-.94-.94-2.06-.94 2.06-2.06.94z\"/><path d=\"M17.41 7.96l-1.37-1.37c-.4-.4-.92-.59-1.43-.59-.52 0-1.04.2-1.43.59L10.3 9.45l-7.72 7.72c-.78.78-.78 2.05 0 2.83L4 21.41c.39.39.9.59 1.41.59.51 0 1.02-.2 1.41-.59l7.78-7.78 2.81-2.81c.8-.78.8-2.07 0-2.86zM5.41 20L4 18.59l7.72-7.72 1.47 1.35L5.41 20z\"/>\n",
              "  </svg>\n",
              "      </button>\n",
              "      \n",
              "  <style>\n",
              "    .colab-df-container {\n",
              "      display:flex;\n",
              "      flex-wrap:wrap;\n",
              "      gap: 12px;\n",
              "    }\n",
              "\n",
              "    .colab-df-convert {\n",
              "      background-color: #E8F0FE;\n",
              "      border: none;\n",
              "      border-radius: 50%;\n",
              "      cursor: pointer;\n",
              "      display: none;\n",
              "      fill: #1967D2;\n",
              "      height: 32px;\n",
              "      padding: 0 0 0 0;\n",
              "      width: 32px;\n",
              "    }\n",
              "\n",
              "    .colab-df-convert:hover {\n",
              "      background-color: #E2EBFA;\n",
              "      box-shadow: 0px 1px 2px rgba(60, 64, 67, 0.3), 0px 1px 3px 1px rgba(60, 64, 67, 0.15);\n",
              "      fill: #174EA6;\n",
              "    }\n",
              "\n",
              "    [theme=dark] .colab-df-convert {\n",
              "      background-color: #3B4455;\n",
              "      fill: #D2E3FC;\n",
              "    }\n",
              "\n",
              "    [theme=dark] .colab-df-convert:hover {\n",
              "      background-color: #434B5C;\n",
              "      box-shadow: 0px 1px 3px 1px rgba(0, 0, 0, 0.15);\n",
              "      filter: drop-shadow(0px 1px 2px rgba(0, 0, 0, 0.3));\n",
              "      fill: #FFFFFF;\n",
              "    }\n",
              "  </style>\n",
              "\n",
              "      <script>\n",
              "        const buttonEl =\n",
              "          document.querySelector('#df-139567b6-80dd-4557-88af-300738b9f6e3 button.colab-df-convert');\n",
              "        buttonEl.style.display =\n",
              "          google.colab.kernel.accessAllowed ? 'block' : 'none';\n",
              "\n",
              "        async function convertToInteractive(key) {\n",
              "          const element = document.querySelector('#df-139567b6-80dd-4557-88af-300738b9f6e3');\n",
              "          const dataTable =\n",
              "            await google.colab.kernel.invokeFunction('convertToInteractive',\n",
              "                                                     [key], {});\n",
              "          if (!dataTable) return;\n",
              "\n",
              "          const docLinkHtml = 'Like what you see? Visit the ' +\n",
              "            '<a target=\"_blank\" href=https://colab.research.google.com/notebooks/data_table.ipynb>data table notebook</a>'\n",
              "            + ' to learn more about interactive tables.';\n",
              "          element.innerHTML = '';\n",
              "          dataTable['output_type'] = 'display_data';\n",
              "          await google.colab.output.renderOutput(dataTable, element);\n",
              "          const docLink = document.createElement('div');\n",
              "          docLink.innerHTML = docLinkHtml;\n",
              "          element.appendChild(docLink);\n",
              "        }\n",
              "      </script>\n",
              "    </div>\n",
              "  </div>\n",
              "  "
            ]
          },
          "metadata": {},
          "execution_count": 53
        }
      ]
    },
    {
      "cell_type": "code",
      "source": [
        "roads.shape"
      ],
      "metadata": {
        "colab": {
          "base_uri": "https://localhost:8080/"
        },
        "id": "7a1ceRtKWqLh",
        "outputId": "9ab6fc1a-0454-4e37-ad4c-6c766382e8a0"
      },
      "execution_count": 54,
      "outputs": [
        {
          "output_type": "execute_result",
          "data": {
            "text/plain": [
              "(23329, 8)"
            ]
          },
          "metadata": {},
          "execution_count": 54
        }
      ]
    },
    {
      "cell_type": "code",
      "source": [
        "roads['type'].value_counts()"
      ],
      "metadata": {
        "colab": {
          "base_uri": "https://localhost:8080/"
        },
        "id": "uoVhujObsgty",
        "outputId": "b9ca30c9-30ca-4211-f826-ea54cca66751"
      },
      "execution_count": 55,
      "outputs": [
        {
          "output_type": "execute_result",
          "data": {
            "text/plain": [
              "service           8079\n",
              "residential       6306\n",
              "footway           3556\n",
              "secondary         1440\n",
              "tertiary          1180\n",
              "unclassified       820\n",
              "path               592\n",
              "motorway           262\n",
              "motorway_link      236\n",
              "primary            175\n",
              "trunk              156\n",
              "cycleway           122\n",
              "construction        89\n",
              "trunk_link          83\n",
              "secondary_link      67\n",
              "track               55\n",
              "tertiary_link       31\n",
              "steps               27\n",
              "pedestrian          18\n",
              "raceway             12\n",
              "proposed             8\n",
              "corridor             7\n",
              "primary_link         5\n",
              "bridleway            2\n",
              "living_street        1\n",
              "Name: type, dtype: int64"
            ]
          },
          "metadata": {},
          "execution_count": 55
        }
      ]
    },
    {
      "cell_type": "code",
      "source": [
        "plt.figure(figsize =(20, 7))\n",
        "plt.hist(roads['type'],color = \"maroon\", ec=\"black\",rwidth=0.75)\n",
        "plt.show()"
      ],
      "metadata": {
        "colab": {
          "base_uri": "https://localhost:8080/",
          "height": 412
        },
        "id": "9W04I6kcByhM",
        "outputId": "a716dbc7-e3a5-4fb1-f34b-64bc0fa5909c"
      },
      "execution_count": 56,
      "outputs": [
        {
          "output_type": "display_data",
          "data": {
            "text/plain": [
              "<Figure size 1440x504 with 1 Axes>"
            ],
            "image/png": "[encoded data removed]"
          },
          "metadata": {
            "needs_background": "light"
          }
        }
      ]
    },
    {
      "cell_type": "code",
      "source": [
        "roads['type'].unique()"
      ],
      "metadata": {
        "colab": {
          "base_uri": "https://localhost:8080/"
        },
        "id": "f3Xk0wV7MQWf",
        "outputId": "3527f496-67fc-4bd3-e837-ebf0f4a38972"
      },
      "execution_count": 57,
      "outputs": [
        {
          "output_type": "execute_result",
          "data": {
            "text/plain": [
              "array(['tertiary', 'residential', 'primary', 'motorway_link', 'motorway',\n",
              "       'cycleway', 'trunk', 'secondary', 'construction', 'secondary_link',\n",
              "       'unclassified', 'service', 'track', 'footway', 'trunk_link',\n",
              "       'tertiary_link', 'pedestrian', 'path', 'proposed', 'steps',\n",
              "       'primary_link', 'raceway', 'corridor', 'bridleway',\n",
              "       'living_street'], dtype=object)"
            ]
          },
          "metadata": {},
          "execution_count": 57
        }
      ]
    },
    {
      "cell_type": "code",
      "source": [
        "data = ['trunk','construction', 'secondary_link', 'unclassified', 'service',\n",
        "         'track', 'footway', 'trunk_link', 'tertiary_link', 'pedestrian', \n",
        "         'path', 'proposed', 'steps', 'primary_link', 'raceway', \n",
        "         'corridor', 'bridleway']\n",
        "\n",
        "# Dropping locations from data where installing Charging station is not feasible\n",
        "\n",
        "for location in data:\n",
        "  roads.drop(roads.loc[roads['type'] == location ].index, inplace=True)"
      ],
      "metadata": {
        "id": "RSJlay_yEFDK"
      },
      "execution_count": 58,
      "outputs": []
    },
    {
      "cell_type": "code",
      "source": [
        "#Dropping useless columns\n",
        "roads =  roads.drop(['name','ref','oneway','bridge','maxspeed'],axis=1)"
      ],
      "metadata": {
        "id": "ZUDuV_H9Zi4Z"
      },
      "execution_count": 59,
      "outputs": []
    },
    {
      "cell_type": "code",
      "source": [
        "roads.head()"
      ],
      "metadata": {
        "colab": {
          "base_uri": "https://localhost:8080/",
          "height": 206
        },
        "id": "tY8yrQjuZgBu",
        "outputId": "cb566a26-5828-4cd6-a756-a92aec2206ef"
      },
      "execution_count": 60,
      "outputs": [
        {
          "output_type": "execute_result",
          "data": {
            "text/plain": [
              "    osm_id         type                                           geometry\n",
              "0  2627409     tertiary  LINESTRING (-83.01725 42.25474, -83.01641 42.2...\n",
              "1  2627414  residential  LINESTRING (-83.01614 42.25493, -83.01537 42.2...\n",
              "2  2628245  residential  LINESTRING (-83.01424 42.24476, -83.01412 42.2...\n",
              "3  2628285  residential  LINESTRING (-83.01615 42.24740, -83.01611 42.2...\n",
              "4  2628294  residential  LINESTRING (-83.01267 42.24507, -83.01291 42.2..."
            ],
            "text/html": [
              "\n",
              "  <div id=\"df-4fe38872-7907-401f-8d9d-741a169bfbea\">\n",
              "    <div class=\"colab-df-container\">\n",
              "      <div>\n",
              "<style scoped>\n",
              "    .dataframe tbody tr th:only-of-type {\n",
              "        vertical-align: middle;\n",
              "    }\n",
              "\n",
              "    .dataframe tbody tr th {\n",
              "        vertical-align: top;\n",
              "    }\n",
              "\n",
              "    .dataframe thead th {\n",
              "        text-align: right;\n",
              "    }\n",
              "</style>\n",
              "<table border=\"1\" class=\"dataframe\">\n",
              "  <thead>\n",
              "    <tr style=\"text-align: right;\">\n",
              "      <th></th>\n",
              "      <th>osm_id</th>\n",
              "      <th>type</th>\n",
              "      <th>geometry</th>\n",
              "    </tr>\n",
              "  </thead>\n",
              "  <tbody>\n",
              "    <tr>\n",
              "      <th>0</th>\n",
              "      <td>2627409</td>\n",
              "      <td>tertiary</td>\n",
              "      <td>LINESTRING (-83.01725 42.25474, -83.01641 42.2...</td>\n",
              "    </tr>\n",
              "    <tr>\n",
              "      <th>1</th>\n",
              "      <td>2627414</td>\n",
              "      <td>residential</td>\n",
              "      <td>LINESTRING (-83.01614 42.25493, -83.01537 42.2...</td>\n",
              "    </tr>\n",
              "    <tr>\n",
              "      <th>2</th>\n",
              "      <td>2628245</td>\n",
              "      <td>residential</td>\n",
              "      <td>LINESTRING (-83.01424 42.24476, -83.01412 42.2...</td>\n",
              "    </tr>\n",
              "    <tr>\n",
              "      <th>3</th>\n",
              "      <td>2628285</td>\n",
              "      <td>residential</td>\n",
              "      <td>LINESTRING (-83.01615 42.24740, -83.01611 42.2...</td>\n",
              "    </tr>\n",
              "    <tr>\n",
              "      <th>4</th>\n",
              "      <td>2628294</td>\n",
              "      <td>residential</td>\n",
              "      <td>LINESTRING (-83.01267 42.24507, -83.01291 42.2...</td>\n",
              "    </tr>\n",
              "  </tbody>\n",
              "</table>\n",
              "</div>\n",
              "      <button class=\"colab-df-convert\" onclick=\"convertToInteractive('df-4fe38872-7907-401f-8d9d-741a169bfbea')\"\n",
              "              title=\"Convert this dataframe to an interactive table.\"\n",
              "              style=\"display:none;\">\n",
              "        \n",
              "  <svg xmlns=\"http://www.w3.org/2000/svg\" height=\"24px\"viewBox=\"0 0 24 24\"\n",
              "       width=\"24px\">\n",
              "    <path d=\"M0 0h24v24H0V0z\" fill=\"none\"/>\n",
              "    <path d=\"M18.56 5.44l.94 2.06.94-2.06 2.06-.94-2.06-.94-.94-2.06-.94 2.06-2.06.94zm-11 1L8.5 8.5l.94-2.06 2.06-.94-2.06-.94L8.5 2.5l-.94 2.06-2.06.94zm10 10l.94 2.06.94-2.06 2.06-.94-2.06-.94-.94-2.06-.94 2.06-2.06.94z\"/><path d=\"M17.41 7.96l-1.37-1.37c-.4-.4-.92-.59-1.43-.59-.52 0-1.04.2-1.43.59L10.3 9.45l-7.72 7.72c-.78.78-.78 2.05 0 2.83L4 21.41c.39.39.9.59 1.41.59.51 0 1.02-.2 1.41-.59l7.78-7.78 2.81-2.81c.8-.78.8-2.07 0-2.86zM5.41 20L4 18.59l7.72-7.72 1.47 1.35L5.41 20z\"/>\n",
              "  </svg>\n",
              "      </button>\n",
              "      \n",
              "  <style>\n",
              "    .colab-df-container {\n",
              "      display:flex;\n",
              "      flex-wrap:wrap;\n",
              "      gap: 12px;\n",
              "    }\n",
              "\n",
              "    .colab-df-convert {\n",
              "      background-color: #E8F0FE;\n",
              "      border: none;\n",
              "      border-radius: 50%;\n",
              "      cursor: pointer;\n",
              "      display: none;\n",
              "      fill: #1967D2;\n",
              "      height: 32px;\n",
              "      padding: 0 0 0 0;\n",
              "      width: 32px;\n",
              "    }\n",
              "\n",
              "    .colab-df-convert:hover {\n",
              "      background-color: #E2EBFA;\n",
              "      box-shadow: 0px 1px 2px rgba(60, 64, 67, 0.3), 0px 1px 3px 1px rgba(60, 64, 67, 0.15);\n",
              "      fill: #174EA6;\n",
              "    }\n",
              "\n",
              "    [theme=dark] .colab-df-convert {\n",
              "      background-color: #3B4455;\n",
              "      fill: #D2E3FC;\n",
              "    }\n",
              "\n",
              "    [theme=dark] .colab-df-convert:hover {\n",
              "      background-color: #434B5C;\n",
              "      box-shadow: 0px 1px 3px 1px rgba(0, 0, 0, 0.15);\n",
              "      filter: drop-shadow(0px 1px 2px rgba(0, 0, 0, 0.3));\n",
              "      fill: #FFFFFF;\n",
              "    }\n",
              "  </style>\n",
              "\n",
              "      <script>\n",
              "        const buttonEl =\n",
              "          document.querySelector('#df-4fe38872-7907-401f-8d9d-741a169bfbea button.colab-df-convert');\n",
              "        buttonEl.style.display =\n",
              "          google.colab.kernel.accessAllowed ? 'block' : 'none';\n",
              "\n",
              "        async function convertToInteractive(key) {\n",
              "          const element = document.querySelector('#df-4fe38872-7907-401f-8d9d-741a169bfbea');\n",
              "          const dataTable =\n",
              "            await google.colab.kernel.invokeFunction('convertToInteractive',\n",
              "                                                     [key], {});\n",
              "          if (!dataTable) return;\n",
              "\n",
              "          const docLinkHtml = 'Like what you see? Visit the ' +\n",
              "            '<a target=\"_blank\" href=https://colab.research.google.com/notebooks/data_table.ipynb>data table notebook</a>'\n",
              "            + ' to learn more about interactive tables.';\n",
              "          element.innerHTML = '';\n",
              "          dataTable['output_type'] = 'display_data';\n",
              "          await google.colab.output.renderOutput(dataTable, element);\n",
              "          const docLink = document.createElement('div');\n",
              "          docLink.innerHTML = docLinkHtml;\n",
              "          element.appendChild(docLink);\n",
              "        }\n",
              "      </script>\n",
              "    </div>\n",
              "  </div>\n",
              "  "
            ]
          },
          "metadata": {},
          "execution_count": 60
        }
      ]
    },
    {
      "cell_type": "markdown",
      "source": [
        "### Places"
      ],
      "metadata": {
        "id": "-MtYKQnTVc1Q"
      }
    },
    {
      "cell_type": "code",
      "source": [
        "places.sample(5)"
      ],
      "metadata": {
        "colab": {
          "base_uri": "https://localhost:8080/",
          "height": 206
        },
        "id": "GfxaNguEWtTA",
        "outputId": "693ce252-f4c7-40c5-b5d9-49947df88852"
      },
      "execution_count": 61,
      "outputs": [
        {
          "output_type": "execute_result",
          "data": {
            "text/plain": [
              "         osm_id            name      type  population  \\\n",
              "111  1887626949  Windsor (city)    county         NaN   \n",
              "24   2142074499        Wheatley  locality         NaN   \n",
              "58  -2143728051       Byrnedale  locality         NaN   \n",
              "80  -2134708464   Turkey Island    island         NaN   \n",
              "89  -2133157508   Malden Centre    hamlet         NaN   \n",
              "\n",
              "                       geometry  \n",
              "111  POINT (-82.97807 42.28585)  \n",
              "24   POINT (-82.46295 42.09506)  \n",
              "58   POINT (-82.67001 42.24544)  \n",
              "80   POINT (-83.11346 42.18553)  \n",
              "89   POINT (-83.03655 42.06008)  "
            ],
            "text/html": [
              "\n",
              "  <div id=\"df-07e0d033-89b5-4856-a48f-fd5320e367e9\">\n",
              "    <div class=\"colab-df-container\">\n",
              "      <div>\n",
              "<style scoped>\n",
              "    .dataframe tbody tr th:only-of-type {\n",
              "        vertical-align: middle;\n",
              "    }\n",
              "\n",
              "    .dataframe tbody tr th {\n",
              "        vertical-align: top;\n",
              "    }\n",
              "\n",
              "    .dataframe thead th {\n",
              "        text-align: right;\n",
              "    }\n",
              "</style>\n",
              "<table border=\"1\" class=\"dataframe\">\n",
              "  <thead>\n",
              "    <tr style=\"text-align: right;\">\n",
              "      <th></th>\n",
              "      <th>osm_id</th>\n",
              "      <th>name</th>\n",
              "      <th>type</th>\n",
              "      <th>population</th>\n",
              "      <th>geometry</th>\n",
              "    </tr>\n",
              "  </thead>\n",
              "  <tbody>\n",
              "    <tr>\n",
              "      <th>111</th>\n",
              "      <td>1887626949</td>\n",
              "      <td>Windsor (city)</td>\n",
              "      <td>county</td>\n",
              "      <td>NaN</td>\n",
              "      <td>POINT (-82.97807 42.28585)</td>\n",
              "    </tr>\n",
              "    <tr>\n",
              "      <th>24</th>\n",
              "      <td>2142074499</td>\n",
              "      <td>Wheatley</td>\n",
              "      <td>locality</td>\n",
              "      <td>NaN</td>\n",
              "      <td>POINT (-82.46295 42.09506)</td>\n",
              "    </tr>\n",
              "    <tr>\n",
              "      <th>58</th>\n",
              "      <td>-2143728051</td>\n",
              "      <td>Byrnedale</td>\n",
              "      <td>locality</td>\n",
              "      <td>NaN</td>\n",
              "      <td>POINT (-82.67001 42.24544)</td>\n",
              "    </tr>\n",
              "    <tr>\n",
              "      <th>80</th>\n",
              "      <td>-2134708464</td>\n",
              "      <td>Turkey Island</td>\n",
              "      <td>island</td>\n",
              "      <td>NaN</td>\n",
              "      <td>POINT (-83.11346 42.18553)</td>\n",
              "    </tr>\n",
              "    <tr>\n",
              "      <th>89</th>\n",
              "      <td>-2133157508</td>\n",
              "      <td>Malden Centre</td>\n",
              "      <td>hamlet</td>\n",
              "      <td>NaN</td>\n",
              "      <td>POINT (-83.03655 42.06008)</td>\n",
              "    </tr>\n",
              "  </tbody>\n",
              "</table>\n",
              "</div>\n",
              "      <button class=\"colab-df-convert\" onclick=\"convertToInteractive('df-07e0d033-89b5-4856-a48f-fd5320e367e9')\"\n",
              "              title=\"Convert this dataframe to an interactive table.\"\n",
              "              style=\"display:none;\">\n",
              "        \n",
              "  <svg xmlns=\"http://www.w3.org/2000/svg\" height=\"24px\"viewBox=\"0 0 24 24\"\n",
              "       width=\"24px\">\n",
              "    <path d=\"M0 0h24v24H0V0z\" fill=\"none\"/>\n",
              "    <path d=\"M18.56 5.44l.94 2.06.94-2.06 2.06-.94-2.06-.94-.94-2.06-.94 2.06-2.06.94zm-11 1L8.5 8.5l.94-2.06 2.06-.94-2.06-.94L8.5 2.5l-.94 2.06-2.06.94zm10 10l.94 2.06.94-2.06 2.06-.94-2.06-.94-.94-2.06-.94 2.06-2.06.94z\"/><path d=\"M17.41 7.96l-1.37-1.37c-.4-.4-.92-.59-1.43-.59-.52 0-1.04.2-1.43.59L10.3 9.45l-7.72 7.72c-.78.78-.78 2.05 0 2.83L4 21.41c.39.39.9.59 1.41.59.51 0 1.02-.2 1.41-.59l7.78-7.78 2.81-2.81c.8-.78.8-2.07 0-2.86zM5.41 20L4 18.59l7.72-7.72 1.47 1.35L5.41 20z\"/>\n",
              "  </svg>\n",
              "      </button>\n",
              "      \n",
              "  <style>\n",
              "    .colab-df-container {\n",
              "      display:flex;\n",
              "      flex-wrap:wrap;\n",
              "      gap: 12px;\n",
              "    }\n",
              "\n",
              "    .colab-df-convert {\n",
              "      background-color: #E8F0FE;\n",
              "      border: none;\n",
              "      border-radius: 50%;\n",
              "      cursor: pointer;\n",
              "      display: none;\n",
              "      fill: #1967D2;\n",
              "      height: 32px;\n",
              "      padding: 0 0 0 0;\n",
              "      width: 32px;\n",
              "    }\n",
              "\n",
              "    .colab-df-convert:hover {\n",
              "      background-color: #E2EBFA;\n",
              "      box-shadow: 0px 1px 2px rgba(60, 64, 67, 0.3), 0px 1px 3px 1px rgba(60, 64, 67, 0.15);\n",
              "      fill: #174EA6;\n",
              "    }\n",
              "\n",
              "    [theme=dark] .colab-df-convert {\n",
              "      background-color: #3B4455;\n",
              "      fill: #D2E3FC;\n",
              "    }\n",
              "\n",
              "    [theme=dark] .colab-df-convert:hover {\n",
              "      background-color: #434B5C;\n",
              "      box-shadow: 0px 1px 3px 1px rgba(0, 0, 0, 0.15);\n",
              "      filter: drop-shadow(0px 1px 2px rgba(0, 0, 0, 0.3));\n",
              "      fill: #FFFFFF;\n",
              "    }\n",
              "  </style>\n",
              "\n",
              "      <script>\n",
              "        const buttonEl =\n",
              "          document.querySelector('#df-07e0d033-89b5-4856-a48f-fd5320e367e9 button.colab-df-convert');\n",
              "        buttonEl.style.display =\n",
              "          google.colab.kernel.accessAllowed ? 'block' : 'none';\n",
              "\n",
              "        async function convertToInteractive(key) {\n",
              "          const element = document.querySelector('#df-07e0d033-89b5-4856-a48f-fd5320e367e9');\n",
              "          const dataTable =\n",
              "            await google.colab.kernel.invokeFunction('convertToInteractive',\n",
              "                                                     [key], {});\n",
              "          if (!dataTable) return;\n",
              "\n",
              "          const docLinkHtml = 'Like what you see? Visit the ' +\n",
              "            '<a target=\"_blank\" href=https://colab.research.google.com/notebooks/data_table.ipynb>data table notebook</a>'\n",
              "            + ' to learn more about interactive tables.';\n",
              "          element.innerHTML = '';\n",
              "          dataTable['output_type'] = 'display_data';\n",
              "          await google.colab.output.renderOutput(dataTable, element);\n",
              "          const docLink = document.createElement('div');\n",
              "          docLink.innerHTML = docLinkHtml;\n",
              "          element.appendChild(docLink);\n",
              "        }\n",
              "      </script>\n",
              "    </div>\n",
              "  </div>\n",
              "  "
            ]
          },
          "metadata": {},
          "execution_count": 61
        }
      ]
    },
    {
      "cell_type": "code",
      "source": [
        "places.shape"
      ],
      "metadata": {
        "colab": {
          "base_uri": "https://localhost:8080/"
        },
        "id": "v_BKTpoMWvAJ",
        "outputId": "50886d8f-7482-48d1-e765-c6d22380a6f7"
      },
      "execution_count": 62,
      "outputs": [
        {
          "output_type": "execute_result",
          "data": {
            "text/plain": [
              "(124, 5)"
            ]
          },
          "metadata": {},
          "execution_count": 62
        }
      ]
    },
    {
      "cell_type": "code",
      "source": [
        "places['type'].value_counts()"
      ],
      "metadata": {
        "colab": {
          "base_uri": "https://localhost:8080/"
        },
        "id": "KydHH_xLyKy6",
        "outputId": "ac9065f7-e581-47e0-f06d-58644a29505f"
      },
      "execution_count": 63,
      "outputs": [
        {
          "output_type": "execute_result",
          "data": {
            "text/plain": [
              "locality            58\n",
              "neighbourhood       24\n",
              "village              9\n",
              "town                 9\n",
              "island               9\n",
              "hamlet               9\n",
              "county               2\n",
              "city                 1\n",
              "village;locality     1\n",
              "islet                1\n",
              "suburb               1\n",
              "Name: type, dtype: int64"
            ]
          },
          "metadata": {},
          "execution_count": 63
        }
      ]
    },
    {
      "cell_type": "code",
      "source": [
        "plt.figure(figsize =(15, 7))\n",
        "plt.hist(places['type'],color = \"maroon\", ec=\"black\",rwidth=0.75)\n",
        "plt.show()"
      ],
      "metadata": {
        "colab": {
          "base_uri": "https://localhost:8080/",
          "height": 428
        },
        "id": "euJd0YObB0P7",
        "outputId": "8575fbfd-f556-4ea3-d25e-6e3edacbd670"
      },
      "execution_count": 64,
      "outputs": [
        {
          "output_type": "display_data",
          "data": {
            "text/plain": [
              "<Figure size 1080x504 with 1 Axes>"
            ],
            "image/png": "[encoded data removed]"
          },
          "metadata": {
            "needs_background": "light"
          }
        }
      ]
    },
    {
      "cell_type": "code",
      "source": [
        "places['type'].unique()"
      ],
      "metadata": {
        "colab": {
          "base_uri": "https://localhost:8080/"
        },
        "id": "ouUvwwNAMZGU",
        "outputId": "78db2517-fc0d-4896-b4b4-4007e0bb76f7"
      },
      "execution_count": 65,
      "outputs": [
        {
          "output_type": "execute_result",
          "data": {
            "text/plain": [
              "array(['village', 'neighbourhood', 'city', 'town', 'village;locality',\n",
              "       'island', 'islet', 'hamlet', 'locality', 'county', 'suburb'],\n",
              "      dtype=object)"
            ]
          },
          "metadata": {},
          "execution_count": 65
        }
      ]
    },
    {
      "cell_type": "code",
      "source": [
        "data = ['village', 'neighbourhood', 'village;locality',\n",
        "       'island', 'islet', 'hamlet', 'locality']\n",
        "\n",
        "# Dropping locations from data where installing Charging station is not feasible\n",
        "\n",
        "for location in data:\n",
        "  places.drop(places.loc[places['type'] == location ].index, inplace=True)"
      ],
      "metadata": {
        "id": "W2iCglXQEGT7"
      },
      "execution_count": 66,
      "outputs": []
    },
    {
      "cell_type": "code",
      "source": [
        "#Dropping useless columns\n",
        "places =  places.drop(['name','population'],axis=1)"
      ],
      "metadata": {
        "id": "Tyonzwh-Zpq-"
      },
      "execution_count": 67,
      "outputs": []
    },
    {
      "cell_type": "code",
      "source": [
        "places.head()"
      ],
      "metadata": {
        "colab": {
          "base_uri": "https://localhost:8080/",
          "height": 206
        },
        "id": "ayNKpnTyZtTd",
        "outputId": "120450ea-4a0c-40ed-9107-ffc7c241c2d6"
      },
      "execution_count": 68,
      "outputs": [
        {
          "output_type": "execute_result",
          "data": {
            "text/plain": [
              "      osm_id  type                    geometry\n",
              "3  253421090  city  POINT (-83.03534 42.31710)\n",
              "4  254023814  town  POINT (-83.06065 42.24506)\n",
              "5  254023816  town  POINT (-82.88620 42.31180)\n",
              "7  260233622  town  POINT (-82.59970 42.05312)\n",
              "8  260234802  town  POINT (-82.82155 42.17448)"
            ],
            "text/html": [
              "\n",
              "  <div id=\"df-32a996b7-5b77-448f-b5ba-8b3d4705f09a\">\n",
              "    <div class=\"colab-df-container\">\n",
              "      <div>\n",
              "<style scoped>\n",
              "    .dataframe tbody tr th:only-of-type {\n",
              "        vertical-align: middle;\n",
              "    }\n",
              "\n",
              "    .dataframe tbody tr th {\n",
              "        vertical-align: top;\n",
              "    }\n",
              "\n",
              "    .dataframe thead th {\n",
              "        text-align: right;\n",
              "    }\n",
              "</style>\n",
              "<table border=\"1\" class=\"dataframe\">\n",
              "  <thead>\n",
              "    <tr style=\"text-align: right;\">\n",
              "      <th></th>\n",
              "      <th>osm_id</th>\n",
              "      <th>type</th>\n",
              "      <th>geometry</th>\n",
              "    </tr>\n",
              "  </thead>\n",
              "  <tbody>\n",
              "    <tr>\n",
              "      <th>3</th>\n",
              "      <td>253421090</td>\n",
              "      <td>city</td>\n",
              "      <td>POINT (-83.03534 42.31710)</td>\n",
              "    </tr>\n",
              "    <tr>\n",
              "      <th>4</th>\n",
              "      <td>254023814</td>\n",
              "      <td>town</td>\n",
              "      <td>POINT (-83.06065 42.24506)</td>\n",
              "    </tr>\n",
              "    <tr>\n",
              "      <th>5</th>\n",
              "      <td>254023816</td>\n",
              "      <td>town</td>\n",
              "      <td>POINT (-82.88620 42.31180)</td>\n",
              "    </tr>\n",
              "    <tr>\n",
              "      <th>7</th>\n",
              "      <td>260233622</td>\n",
              "      <td>town</td>\n",
              "      <td>POINT (-82.59970 42.05312)</td>\n",
              "    </tr>\n",
              "    <tr>\n",
              "      <th>8</th>\n",
              "      <td>260234802</td>\n",
              "      <td>town</td>\n",
              "      <td>POINT (-82.82155 42.17448)</td>\n",
              "    </tr>\n",
              "  </tbody>\n",
              "</table>\n",
              "</div>\n",
              "      <button class=\"colab-df-convert\" onclick=\"convertToInteractive('df-32a996b7-5b77-448f-b5ba-8b3d4705f09a')\"\n",
              "              title=\"Convert this dataframe to an interactive table.\"\n",
              "              style=\"display:none;\">\n",
              "        \n",
              "  <svg xmlns=\"http://www.w3.org/2000/svg\" height=\"24px\"viewBox=\"0 0 24 24\"\n",
              "       width=\"24px\">\n",
              "    <path d=\"M0 0h24v24H0V0z\" fill=\"none\"/>\n",
              "    <path d=\"M18.56 5.44l.94 2.06.94-2.06 2.06-.94-2.06-.94-.94-2.06-.94 2.06-2.06.94zm-11 1L8.5 8.5l.94-2.06 2.06-.94-2.06-.94L8.5 2.5l-.94 2.06-2.06.94zm10 10l.94 2.06.94-2.06 2.06-.94-2.06-.94-.94-2.06-.94 2.06-2.06.94z\"/><path d=\"M17.41 7.96l-1.37-1.37c-.4-.4-.92-.59-1.43-.59-.52 0-1.04.2-1.43.59L10.3 9.45l-7.72 7.72c-.78.78-.78 2.05 0 2.83L4 21.41c.39.39.9.59 1.41.59.51 0 1.02-.2 1.41-.59l7.78-7.78 2.81-2.81c.8-.78.8-2.07 0-2.86zM5.41 20L4 18.59l7.72-7.72 1.47 1.35L5.41 20z\"/>\n",
              "  </svg>\n",
              "      </button>\n",
              "      \n",
              "  <style>\n",
              "    .colab-df-container {\n",
              "      display:flex;\n",
              "      flex-wrap:wrap;\n",
              "      gap: 12px;\n",
              "    }\n",
              "\n",
              "    .colab-df-convert {\n",
              "      background-color: #E8F0FE;\n",
              "      border: none;\n",
              "      border-radius: 50%;\n",
              "      cursor: pointer;\n",
              "      display: none;\n",
              "      fill: #1967D2;\n",
              "      height: 32px;\n",
              "      padding: 0 0 0 0;\n",
              "      width: 32px;\n",
              "    }\n",
              "\n",
              "    .colab-df-convert:hover {\n",
              "      background-color: #E2EBFA;\n",
              "      box-shadow: 0px 1px 2px rgba(60, 64, 67, 0.3), 0px 1px 3px 1px rgba(60, 64, 67, 0.15);\n",
              "      fill: #174EA6;\n",
              "    }\n",
              "\n",
              "    [theme=dark] .colab-df-convert {\n",
              "      background-color: #3B4455;\n",
              "      fill: #D2E3FC;\n",
              "    }\n",
              "\n",
              "    [theme=dark] .colab-df-convert:hover {\n",
              "      background-color: #434B5C;\n",
              "      box-shadow: 0px 1px 3px 1px rgba(0, 0, 0, 0.15);\n",
              "      filter: drop-shadow(0px 1px 2px rgba(0, 0, 0, 0.3));\n",
              "      fill: #FFFFFF;\n",
              "    }\n",
              "  </style>\n",
              "\n",
              "      <script>\n",
              "        const buttonEl =\n",
              "          document.querySelector('#df-32a996b7-5b77-448f-b5ba-8b3d4705f09a button.colab-df-convert');\n",
              "        buttonEl.style.display =\n",
              "          google.colab.kernel.accessAllowed ? 'block' : 'none';\n",
              "\n",
              "        async function convertToInteractive(key) {\n",
              "          const element = document.querySelector('#df-32a996b7-5b77-448f-b5ba-8b3d4705f09a');\n",
              "          const dataTable =\n",
              "            await google.colab.kernel.invokeFunction('convertToInteractive',\n",
              "                                                     [key], {});\n",
              "          if (!dataTable) return;\n",
              "\n",
              "          const docLinkHtml = 'Like what you see? Visit the ' +\n",
              "            '<a target=\"_blank\" href=https://colab.research.google.com/notebooks/data_table.ipynb>data table notebook</a>'\n",
              "            + ' to learn more about interactive tables.';\n",
              "          element.innerHTML = '';\n",
              "          dataTable['output_type'] = 'display_data';\n",
              "          await google.colab.output.renderOutput(dataTable, element);\n",
              "          const docLink = document.createElement('div');\n",
              "          docLink.innerHTML = docLinkHtml;\n",
              "          element.appendChild(docLink);\n",
              "        }\n",
              "      </script>\n",
              "    </div>\n",
              "  </div>\n",
              "  "
            ]
          },
          "metadata": {},
          "execution_count": 68
        }
      ]
    },
    {
      "cell_type": "markdown",
      "source": [
        "### Combined Analysis"
      ],
      "metadata": {
        "id": "T_OuMkCAVgIW"
      }
    },
    {
      "cell_type": "code",
      "source": [
        "fig, ax = plt.subplots(figsize = (10, 10))\n",
        "natural.plot(ax = ax,edgecolor = 'green')\n",
        "roads.plot(ax = ax,edgecolor = 'grey')\n",
        "water.plot(ax = ax,edgecolor = 'lightblue')\n",
        "points.plot(ax = ax,edgecolor = 'black')\n",
        "landuse.plot(ax = ax,edgecolor = 'green')\n",
        "railways.plot(ax = ax,edgecolor = 'orange')\n",
        "buildings.plot(ax = ax,edgecolor = 'yellow')\n",
        "places.plot(ax = ax,edgecolor = 'red')\n",
        "ax.set_axis_off()\n",
        "plt.legend()\n",
        "plt.show()\n"
      ],
      "metadata": {
        "colab": {
          "base_uri": "https://localhost:8080/",
          "height": 402
        },
        "id": "kP8bu6_xsgzW",
        "outputId": "32cbee98-d907-4a30-b17a-ab9c1c29fd6b"
      },
      "execution_count": 78,
      "outputs": [
        {
          "output_type": "stream",
          "name": "stderr",
          "text": [
            "No handles with labels found to put in legend.\n"
          ]
        },
        {
          "output_type": "display_data",
          "data": {
            "text/plain": [
              "<Figure size 720x720 with 1 Axes>"
            ],
            "image/png": "[encoded data removed]"
          },
          "metadata": {
            "needs_background": "light"
          }
        }
      ]
    },
    {
      "cell_type": "code",
      "source": [
        "combined = roads.append(natural)\n",
        "combined = combined.append(points)\n",
        "combined = combined.append(landuse)\n",
        "combined = combined.append(water)\n",
        "combined = combined.append(places)\n",
        "combined = combined.append(buildings)\n",
        "combined = combined.append(railways)"
      ],
      "metadata": {
        "id": "NYLyUHB7atk3"
      },
      "execution_count": 70,
      "outputs": []
    },
    {
      "cell_type": "code",
      "source": [
        "combined.shape"
      ],
      "metadata": {
        "colab": {
          "base_uri": "https://localhost:8080/"
        },
        "id": "a7ROQIQia5ML",
        "outputId": "0aa00e92-54d2-4e1e-c1f7-3862b60c7ef1"
      },
      "execution_count": 71,
      "outputs": [
        {
          "output_type": "execute_result",
          "data": {
            "text/plain": [
              "(81088, 3)"
            ]
          },
          "metadata": {},
          "execution_count": 71
        }
      ]
    },
    {
      "cell_type": "code",
      "source": [
        "combined"
      ],
      "metadata": {
        "colab": {
          "base_uri": "https://localhost:8080/",
          "height": 423
        },
        "id": "5D8fdzs6a-xl",
        "outputId": "076652e4-f949-4a19-825c-8dadfd8eaaff"
      },
      "execution_count": 72,
      "outputs": [
        {
          "output_type": "execute_result",
          "data": {
            "text/plain": [
              "          osm_id         type  \\\n",
              "0        2627409     tertiary   \n",
              "1        2627414  residential   \n",
              "2        2628245  residential   \n",
              "3        2628285  residential   \n",
              "4        2628294  residential   \n",
              "...          ...          ...   \n",
              "1212  1009997990    abandoned   \n",
              "1213  1009997995    abandoned   \n",
              "1214  1010001949    abandoned   \n",
              "1215  1010001950    abandoned   \n",
              "1220  1035474716    abandoned   \n",
              "\n",
              "                                               geometry  \n",
              "0     LINESTRING (-83.01725 42.25474, -83.01641 42.2...  \n",
              "1     LINESTRING (-83.01614 42.25493, -83.01537 42.2...  \n",
              "2     LINESTRING (-83.01424 42.24476, -83.01412 42.2...  \n",
              "3     LINESTRING (-83.01615 42.24740, -83.01611 42.2...  \n",
              "4     LINESTRING (-83.01267 42.24507, -83.01291 42.2...  \n",
              "...                                                 ...  \n",
              "1212  LINESTRING (-83.12751 42.28833, -83.12494 42.2...  \n",
              "1213  LINESTRING (-83.11784 42.28924, -83.11746 42.2...  \n",
              "1214  LINESTRING (-83.10869 42.28873, -83.10885 42.2...  \n",
              "1215  LINESTRING (-83.10924 42.28828, -83.10943 42.2...  \n",
              "1220  LINESTRING (-83.11343 42.29421, -83.11343 42.2...  \n",
              "\n",
              "[81088 rows x 3 columns]"
            ],
            "text/html": [
              "\n",
              "  <div id=\"df-53e6aeb0-5f64-4f5b-8336-e8f717dbe6ac\">\n",
              "    <div class=\"colab-df-container\">\n",
              "      <div>\n",
              "<style scoped>\n",
              "    .dataframe tbody tr th:only-of-type {\n",
              "        vertical-align: middle;\n",
              "    }\n",
              "\n",
              "    .dataframe tbody tr th {\n",
              "        vertical-align: top;\n",
              "    }\n",
              "\n",
              "    .dataframe thead th {\n",
              "        text-align: right;\n",
              "    }\n",
              "</style>\n",
              "<table border=\"1\" class=\"dataframe\">\n",
              "  <thead>\n",
              "    <tr style=\"text-align: right;\">\n",
              "      <th></th>\n",
              "      <th>osm_id</th>\n",
              "      <th>type</th>\n",
              "      <th>geometry</th>\n",
              "    </tr>\n",
              "  </thead>\n",
              "  <tbody>\n",
              "    <tr>\n",
              "      <th>0</th>\n",
              "      <td>2627409</td>\n",
              "      <td>tertiary</td>\n",
              "      <td>LINESTRING (-83.01725 42.25474, -83.01641 42.2...</td>\n",
              "    </tr>\n",
              "    <tr>\n",
              "      <th>1</th>\n",
              "      <td>2627414</td>\n",
              "      <td>residential</td>\n",
              "      <td>LINESTRING (-83.01614 42.25493, -83.01537 42.2...</td>\n",
              "    </tr>\n",
              "    <tr>\n",
              "      <th>2</th>\n",
              "      <td>2628245</td>\n",
              "      <td>residential</td>\n",
              "      <td>LINESTRING (-83.01424 42.24476, -83.01412 42.2...</td>\n",
              "    </tr>\n",
              "    <tr>\n",
              "      <th>3</th>\n",
              "      <td>2628285</td>\n",
              "      <td>residential</td>\n",
              "      <td>LINESTRING (-83.01615 42.24740, -83.01611 42.2...</td>\n",
              "    </tr>\n",
              "    <tr>\n",
              "      <th>4</th>\n",
              "      <td>2628294</td>\n",
              "      <td>residential</td>\n",
              "      <td>LINESTRING (-83.01267 42.24507, -83.01291 42.2...</td>\n",
              "    </tr>\n",
              "    <tr>\n",
              "      <th>...</th>\n",
              "      <td>...</td>\n",
              "      <td>...</td>\n",
              "      <td>...</td>\n",
              "    </tr>\n",
              "    <tr>\n",
              "      <th>1212</th>\n",
              "      <td>1009997990</td>\n",
              "      <td>abandoned</td>\n",
              "      <td>LINESTRING (-83.12751 42.28833, -83.12494 42.2...</td>\n",
              "    </tr>\n",
              "    <tr>\n",
              "      <th>1213</th>\n",
              "      <td>1009997995</td>\n",
              "      <td>abandoned</td>\n",
              "      <td>LINESTRING (-83.11784 42.28924, -83.11746 42.2...</td>\n",
              "    </tr>\n",
              "    <tr>\n",
              "      <th>1214</th>\n",
              "      <td>1010001949</td>\n",
              "      <td>abandoned</td>\n",
              "      <td>LINESTRING (-83.10869 42.28873, -83.10885 42.2...</td>\n",
              "    </tr>\n",
              "    <tr>\n",
              "      <th>1215</th>\n",
              "      <td>1010001950</td>\n",
              "      <td>abandoned</td>\n",
              "      <td>LINESTRING (-83.10924 42.28828, -83.10943 42.2...</td>\n",
              "    </tr>\n",
              "    <tr>\n",
              "      <th>1220</th>\n",
              "      <td>1035474716</td>\n",
              "      <td>abandoned</td>\n",
              "      <td>LINESTRING (-83.11343 42.29421, -83.11343 42.2...</td>\n",
              "    </tr>\n",
              "  </tbody>\n",
              "</table>\n",
              "<p>81088 rows × 3 columns</p>\n",
              "</div>\n",
              "      <button class=\"colab-df-convert\" onclick=\"convertToInteractive('df-53e6aeb0-5f64-4f5b-8336-e8f717dbe6ac')\"\n",
              "              title=\"Convert this dataframe to an interactive table.\"\n",
              "              style=\"display:none;\">\n",
              "        \n",
              "  <svg xmlns=\"http://www.w3.org/2000/svg\" height=\"24px\"viewBox=\"0 0 24 24\"\n",
              "       width=\"24px\">\n",
              "    <path d=\"M0 0h24v24H0V0z\" fill=\"none\"/>\n",
              "    <path d=\"M18.56 5.44l.94 2.06.94-2.06 2.06-.94-2.06-.94-.94-2.06-.94 2.06-2.06.94zm-11 1L8.5 8.5l.94-2.06 2.06-.94-2.06-.94L8.5 2.5l-.94 2.06-2.06.94zm10 10l.94 2.06.94-2.06 2.06-.94-2.06-.94-.94-2.06-.94 2.06-2.06.94z\"/><path d=\"M17.41 7.96l-1.37-1.37c-.4-.4-.92-.59-1.43-.59-.52 0-1.04.2-1.43.59L10.3 9.45l-7.72 7.72c-.78.78-.78 2.05 0 2.83L4 21.41c.39.39.9.59 1.41.59.51 0 1.02-.2 1.41-.59l7.78-7.78 2.81-2.81c.8-.78.8-2.07 0-2.86zM5.41 20L4 18.59l7.72-7.72 1.47 1.35L5.41 20z\"/>\n",
              "  </svg>\n",
              "      </button>\n",
              "      \n",
              "  <style>\n",
              "    .colab-df-container {\n",
              "      display:flex;\n",
              "      flex-wrap:wrap;\n",
              "      gap: 12px;\n",
              "    }\n",
              "\n",
              "    .colab-df-convert {\n",
              "      background-color: #E8F0FE;\n",
              "      border: none;\n",
              "      border-radius: 50%;\n",
              "      cursor: pointer;\n",
              "      display: none;\n",
              "      fill: #1967D2;\n",
              "      height: 32px;\n",
              "      padding: 0 0 0 0;\n",
              "      width: 32px;\n",
              "    }\n",
              "\n",
              "    .colab-df-convert:hover {\n",
              "      background-color: #E2EBFA;\n",
              "      box-shadow: 0px 1px 2px rgba(60, 64, 67, 0.3), 0px 1px 3px 1px rgba(60, 64, 67, 0.15);\n",
              "      fill: #174EA6;\n",
              "    }\n",
              "\n",
              "    [theme=dark] .colab-df-convert {\n",
              "      background-color: #3B4455;\n",
              "      fill: #D2E3FC;\n",
              "    }\n",
              "\n",
              "    [theme=dark] .colab-df-convert:hover {\n",
              "      background-color: #434B5C;\n",
              "      box-shadow: 0px 1px 3px 1px rgba(0, 0, 0, 0.15);\n",
              "      filter: drop-shadow(0px 1px 2px rgba(0, 0, 0, 0.3));\n",
              "      fill: #FFFFFF;\n",
              "    }\n",
              "  </style>\n",
              "\n",
              "      <script>\n",
              "        const buttonEl =\n",
              "          document.querySelector('#df-53e6aeb0-5f64-4f5b-8336-e8f717dbe6ac button.colab-df-convert');\n",
              "        buttonEl.style.display =\n",
              "          google.colab.kernel.accessAllowed ? 'block' : 'none';\n",
              "\n",
              "        async function convertToInteractive(key) {\n",
              "          const element = document.querySelector('#df-53e6aeb0-5f64-4f5b-8336-e8f717dbe6ac');\n",
              "          const dataTable =\n",
              "            await google.colab.kernel.invokeFunction('convertToInteractive',\n",
              "                                                     [key], {});\n",
              "          if (!dataTable) return;\n",
              "\n",
              "          const docLinkHtml = 'Like what you see? Visit the ' +\n",
              "            '<a target=\"_blank\" href=https://colab.research.google.com/notebooks/data_table.ipynb>data table notebook</a>'\n",
              "            + ' to learn more about interactive tables.';\n",
              "          element.innerHTML = '';\n",
              "          dataTable['output_type'] = 'display_data';\n",
              "          await google.colab.output.renderOutput(dataTable, element);\n",
              "          const docLink = document.createElement('div');\n",
              "          docLink.innerHTML = docLinkHtml;\n",
              "          element.appendChild(docLink);\n",
              "        }\n",
              "      </script>\n",
              "    </div>\n",
              "  </div>\n",
              "  "
            ]
          },
          "metadata": {},
          "execution_count": 72
        }
      ]
    },
    {
      "cell_type": "code",
      "source": [
        "combined.drop_duplicates()"
      ],
      "metadata": {
        "colab": {
          "base_uri": "https://localhost:8080/",
          "height": 423
        },
        "id": "P1lveazYciLx",
        "outputId": "c8f212df-0513-4c06-fa2a-8a73ea8f2a18"
      },
      "execution_count": 73,
      "outputs": [
        {
          "output_type": "execute_result",
          "data": {
            "text/plain": [
              "          osm_id         type  \\\n",
              "0        2627409     tertiary   \n",
              "1        2627414  residential   \n",
              "2        2628245  residential   \n",
              "3        2628285  residential   \n",
              "4        2628294  residential   \n",
              "...          ...          ...   \n",
              "1212  1009997990    abandoned   \n",
              "1213  1009997995    abandoned   \n",
              "1214  1010001949    abandoned   \n",
              "1215  1010001950    abandoned   \n",
              "1220  1035474716    abandoned   \n",
              "\n",
              "                                               geometry  \n",
              "0     LINESTRING (-83.01725 42.25474, -83.01641 42.2...  \n",
              "1     LINESTRING (-83.01614 42.25493, -83.01537 42.2...  \n",
              "2     LINESTRING (-83.01424 42.24476, -83.01412 42.2...  \n",
              "3     LINESTRING (-83.01615 42.24740, -83.01611 42.2...  \n",
              "4     LINESTRING (-83.01267 42.24507, -83.01291 42.2...  \n",
              "...                                                 ...  \n",
              "1212  LINESTRING (-83.12751 42.28833, -83.12494 42.2...  \n",
              "1213  LINESTRING (-83.11784 42.28924, -83.11746 42.2...  \n",
              "1214  LINESTRING (-83.10869 42.28873, -83.10885 42.2...  \n",
              "1215  LINESTRING (-83.10924 42.28828, -83.10943 42.2...  \n",
              "1220  LINESTRING (-83.11343 42.29421, -83.11343 42.2...  \n",
              "\n",
              "[81088 rows x 3 columns]"
            ],
            "text/html": [
              "\n",
              "  <div id=\"df-8fa31595-f257-4c80-be12-55c1bafa0e90\">\n",
              "    <div class=\"colab-df-container\">\n",
              "      <div>\n",
              "<style scoped>\n",
              "    .dataframe tbody tr th:only-of-type {\n",
              "        vertical-align: middle;\n",
              "    }\n",
              "\n",
              "    .dataframe tbody tr th {\n",
              "        vertical-align: top;\n",
              "    }\n",
              "\n",
              "    .dataframe thead th {\n",
              "        text-align: right;\n",
              "    }\n",
              "</style>\n",
              "<table border=\"1\" class=\"dataframe\">\n",
              "  <thead>\n",
              "    <tr style=\"text-align: right;\">\n",
              "      <th></th>\n",
              "      <th>osm_id</th>\n",
              "      <th>type</th>\n",
              "      <th>geometry</th>\n",
              "    </tr>\n",
              "  </thead>\n",
              "  <tbody>\n",
              "    <tr>\n",
              "      <th>0</th>\n",
              "      <td>2627409</td>\n",
              "      <td>tertiary</td>\n",
              "      <td>LINESTRING (-83.01725 42.25474, -83.01641 42.2...</td>\n",
              "    </tr>\n",
              "    <tr>\n",
              "      <th>1</th>\n",
              "      <td>2627414</td>\n",
              "      <td>residential</td>\n",
              "      <td>LINESTRING (-83.01614 42.25493, -83.01537 42.2...</td>\n",
              "    </tr>\n",
              "    <tr>\n",
              "      <th>2</th>\n",
              "      <td>2628245</td>\n",
              "      <td>residential</td>\n",
              "      <td>LINESTRING (-83.01424 42.24476, -83.01412 42.2...</td>\n",
              "    </tr>\n",
              "    <tr>\n",
              "      <th>3</th>\n",
              "      <td>2628285</td>\n",
              "      <td>residential</td>\n",
              "      <td>LINESTRING (-83.01615 42.24740, -83.01611 42.2...</td>\n",
              "    </tr>\n",
              "    <tr>\n",
              "      <th>4</th>\n",
              "      <td>2628294</td>\n",
              "      <td>residential</td>\n",
              "      <td>LINESTRING (-83.01267 42.24507, -83.01291 42.2...</td>\n",
              "    </tr>\n",
              "    <tr>\n",
              "      <th>...</th>\n",
              "      <td>...</td>\n",
              "      <td>...</td>\n",
              "      <td>...</td>\n",
              "    </tr>\n",
              "    <tr>\n",
              "      <th>1212</th>\n",
              "      <td>1009997990</td>\n",
              "      <td>abandoned</td>\n",
              "      <td>LINESTRING (-83.12751 42.28833, -83.12494 42.2...</td>\n",
              "    </tr>\n",
              "    <tr>\n",
              "      <th>1213</th>\n",
              "      <td>1009997995</td>\n",
              "      <td>abandoned</td>\n",
              "      <td>LINESTRING (-83.11784 42.28924, -83.11746 42.2...</td>\n",
              "    </tr>\n",
              "    <tr>\n",
              "      <th>1214</th>\n",
              "      <td>1010001949</td>\n",
              "      <td>abandoned</td>\n",
              "      <td>LINESTRING (-83.10869 42.28873, -83.10885 42.2...</td>\n",
              "    </tr>\n",
              "    <tr>\n",
              "      <th>1215</th>\n",
              "      <td>1010001950</td>\n",
              "      <td>abandoned</td>\n",
              "      <td>LINESTRING (-83.10924 42.28828, -83.10943 42.2...</td>\n",
              "    </tr>\n",
              "    <tr>\n",
              "      <th>1220</th>\n",
              "      <td>1035474716</td>\n",
              "      <td>abandoned</td>\n",
              "      <td>LINESTRING (-83.11343 42.29421, -83.11343 42.2...</td>\n",
              "    </tr>\n",
              "  </tbody>\n",
              "</table>\n",
              "<p>81088 rows × 3 columns</p>\n",
              "</div>\n",
              "      <button class=\"colab-df-convert\" onclick=\"convertToInteractive('df-8fa31595-f257-4c80-be12-55c1bafa0e90')\"\n",
              "              title=\"Convert this dataframe to an interactive table.\"\n",
              "              style=\"display:none;\">\n",
              "        \n",
              "  <svg xmlns=\"http://www.w3.org/2000/svg\" height=\"24px\"viewBox=\"0 0 24 24\"\n",
              "       width=\"24px\">\n",
              "    <path d=\"M0 0h24v24H0V0z\" fill=\"none\"/>\n",
              "    <path d=\"M18.56 5.44l.94 2.06.94-2.06 2.06-.94-2.06-.94-.94-2.06-.94 2.06-2.06.94zm-11 1L8.5 8.5l.94-2.06 2.06-.94-2.06-.94L8.5 2.5l-.94 2.06-2.06.94zm10 10l.94 2.06.94-2.06 2.06-.94-2.06-.94-.94-2.06-.94 2.06-2.06.94z\"/><path d=\"M17.41 7.96l-1.37-1.37c-.4-.4-.92-.59-1.43-.59-.52 0-1.04.2-1.43.59L10.3 9.45l-7.72 7.72c-.78.78-.78 2.05 0 2.83L4 21.41c.39.39.9.59 1.41.59.51 0 1.02-.2 1.41-.59l7.78-7.78 2.81-2.81c.8-.78.8-2.07 0-2.86zM5.41 20L4 18.59l7.72-7.72 1.47 1.35L5.41 20z\"/>\n",
              "  </svg>\n",
              "      </button>\n",
              "      \n",
              "  <style>\n",
              "    .colab-df-container {\n",
              "      display:flex;\n",
              "      flex-wrap:wrap;\n",
              "      gap: 12px;\n",
              "    }\n",
              "\n",
              "    .colab-df-convert {\n",
              "      background-color: #E8F0FE;\n",
              "      border: none;\n",
              "      border-radius: 50%;\n",
              "      cursor: pointer;\n",
              "      display: none;\n",
              "      fill: #1967D2;\n",
              "      height: 32px;\n",
              "      padding: 0 0 0 0;\n",
              "      width: 32px;\n",
              "    }\n",
              "\n",
              "    .colab-df-convert:hover {\n",
              "      background-color: #E2EBFA;\n",
              "      box-shadow: 0px 1px 2px rgba(60, 64, 67, 0.3), 0px 1px 3px 1px rgba(60, 64, 67, 0.15);\n",
              "      fill: #174EA6;\n",
              "    }\n",
              "\n",
              "    [theme=dark] .colab-df-convert {\n",
              "      background-color: #3B4455;\n",
              "      fill: #D2E3FC;\n",
              "    }\n",
              "\n",
              "    [theme=dark] .colab-df-convert:hover {\n",
              "      background-color: #434B5C;\n",
              "      box-shadow: 0px 1px 3px 1px rgba(0, 0, 0, 0.15);\n",
              "      filter: drop-shadow(0px 1px 2px rgba(0, 0, 0, 0.3));\n",
              "      fill: #FFFFFF;\n",
              "    }\n",
              "  </style>\n",
              "\n",
              "      <script>\n",
              "        const buttonEl =\n",
              "          document.querySelector('#df-8fa31595-f257-4c80-be12-55c1bafa0e90 button.colab-df-convert');\n",
              "        buttonEl.style.display =\n",
              "          google.colab.kernel.accessAllowed ? 'block' : 'none';\n",
              "\n",
              "        async function convertToInteractive(key) {\n",
              "          const element = document.querySelector('#df-8fa31595-f257-4c80-be12-55c1bafa0e90');\n",
              "          const dataTable =\n",
              "            await google.colab.kernel.invokeFunction('convertToInteractive',\n",
              "                                                     [key], {});\n",
              "          if (!dataTable) return;\n",
              "\n",
              "          const docLinkHtml = 'Like what you see? Visit the ' +\n",
              "            '<a target=\"_blank\" href=https://colab.research.google.com/notebooks/data_table.ipynb>data table notebook</a>'\n",
              "            + ' to learn more about interactive tables.';\n",
              "          element.innerHTML = '';\n",
              "          dataTable['output_type'] = 'display_data';\n",
              "          await google.colab.output.renderOutput(dataTable, element);\n",
              "          const docLink = document.createElement('div');\n",
              "          docLink.innerHTML = docLinkHtml;\n",
              "          element.appendChild(docLink);\n",
              "        }\n",
              "      </script>\n",
              "    </div>\n",
              "  </div>\n",
              "  "
            ]
          },
          "metadata": {},
          "execution_count": 73
        }
      ]
    },
    {
      "cell_type": "code",
      "source": [
        "plt.figure(figsize=(10,10))\n",
        "combined.plot()\n",
        "plt.axis('off')\n",
        "plt.show()"
      ],
      "metadata": {
        "colab": {
          "base_uri": "https://localhost:8080/",
          "height": 260
        },
        "id": "QXmbd8fkclQ5",
        "outputId": "517f7490-8d3c-4a9c-af10-7a9c912fe81d"
      },
      "execution_count": 77,
      "outputs": [
        {
          "output_type": "display_data",
          "data": {
            "text/plain": [
              "<Figure size 720x720 with 0 Axes>"
            ]
          },
          "metadata": {}
        },
        {
          "output_type": "display_data",
          "data": {
            "text/plain": [
              "<Figure size 432x288 with 1 Axes>"
            ],
            "image/png": "[encoded data removed]"
          },
          "metadata": {
            "needs_background": "light"
          }
        }
      ]
    }
  ]
}